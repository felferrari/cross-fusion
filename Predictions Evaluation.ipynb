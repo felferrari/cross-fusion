{
 "cells": [
  {
   "cell_type": "markdown",
   "metadata": {},
   "source": [
    "# Predictions Evaluation"
   ]
  },
  {
   "cell_type": "markdown",
   "metadata": {},
   "source": [
    "## Importing"
   ]
  },
  {
   "cell_type": "code",
   "execution_count": 1,
   "metadata": {},
   "outputs": [],
   "source": [
    "import json\n",
    "import shutil, os\n",
    "from ops import load_opt, load_sar, generate_save_patches, min_max_scaler, recall_precision\n",
    "import numpy as np\n",
    "import logging\n",
    "from PIL import Image\n",
    "import tensorflow as tf\n",
    "from sklearn.preprocessing import OneHotEncoder\n",
    "from sklearn.metrics import precision_score, recall_score\n",
    "from tensorflow.keras.utils import to_categorical\n",
    "import matplotlib.pyplot as plt\n",
    "from sklearn.preprocessing import MinMaxScaler\n",
    "import pickle\n",
    "import numpy as np\n",
    "from skimage.morphology import area_opening\n",
    "from sklearn.metrics import confusion_matrix\n",
    "from model.models import Model_1\n",
    "from model.losses import FocalLoss, WBCE\n",
    "from tensorflow.keras.layers import Input\n",
    "from dataloader import DataLoader\n",
    "from tensorflow.keras.optimizers.schedules import InverseTimeDecay\n",
    "\n"
   ]
  },
  {
   "cell_type": "markdown",
   "metadata": {},
   "source": [
    "## Load Params"
   ]
  },
  {
   "cell_type": "code",
   "execution_count": 2,
   "metadata": {},
   "outputs": [],
   "source": [
    "# load the params-patches.json options\n",
    "with open(os.path.join('v1', 'params-patches.json')) as param_file:\n",
    "    params_patches = json.load(param_file)\n",
    "\n",
    "# load the params-patches.json options\n",
    "with open(os.path.join('v1', 'params-training.json')) as param_file:\n",
    "    params_training = json.load(param_file)\n",
    "    \n",
    "#load the params-model.json options\n",
    "with open(os.path.join('v1', 'params-model.json')) as param_file:\n",
    "    params_model = json.load(param_file)\n",
    "\n",
    "#load the shapes.json options\n",
    "with open('shapes.json') as param_file:\n",
    "    shapes_json = json.load(param_file)"
   ]
  },
  {
   "cell_type": "code",
   "execution_count": 3,
   "metadata": {},
   "outputs": [],
   "source": [
    "#patches_path = params_patches['patches_path']\n",
    "\n",
    "#train_path = os.path.join(patches_path, params_patches['train_sub'])\n",
    "#val_path = os.path.join(patches_path, params_patches['val_sub'])\n",
    "#test_path = os.path.join(patches_path, params_patches['test_sub'])\n",
    "#full_path = params_patches['full_path']\n",
    "\n",
    "img_path = params_patches['img_path']\n",
    "data_raw = os.path.join(img_path, params_patches['data_sub']) \n",
    "label_raw = os.path.join(img_path, params_patches['label_sub'])\n",
    "\n",
    "pred_path = params_patches['pred_path']\n",
    "pred_path = './pred_2'"
   ]
  },
  {
   "cell_type": "code",
   "execution_count": 4,
   "metadata": {},
   "outputs": [],
   "source": [
    "labels = np.load(os.path.join(label_raw, 'labels.npy'))"
   ]
  },
  {
   "cell_type": "code",
   "execution_count": 5,
   "metadata": {},
   "outputs": [],
   "source": [
    "opt_pred = np.load(os.path.join(pred_path, 'fusion.npy'))"
   ]
  },
  {
   "cell_type": "code",
   "execution_count": 6,
   "metadata": {},
   "outputs": [],
   "source": [
    "test_mask = np.zeros_like(opt_pred)\n",
    "test_tiles = params_patches['test_tiles']\n",
    "split_v = params_patches['tiles_v']\n",
    "split_h = params_patches['tiles_h']\n",
    "lines = np.array_split(range(opt_pred.shape[0]), split_v)\n",
    "cols = np.array_split(range(opt_pred.shape[1]), split_h)\n",
    "i = 0\n",
    "dic = {}\n",
    "for line in lines:\n",
    "    for col in cols:\n",
    "        i+=1\n",
    "        if i not in test_tiles:\n",
    "            continue\n",
    "        test_mask[line[0]:line[-1]+1, col[0]:col[-1]+1] = 1"
   ]
  },
  {
   "cell_type": "code",
   "execution_count": 7,
   "metadata": {},
   "outputs": [],
   "source": [
    "ths = [i/10 for i in range(11)]"
   ]
  },
  {
   "cell_type": "code",
   "execution_count": 20,
   "metadata": {},
   "outputs": [],
   "source": [
    "pr = recall_precision(labels, opt_pred, 625, ths, test_mask)"
   ]
  },
  {
   "cell_type": "code",
   "execution_count": 21,
   "metadata": {},
   "outputs": [
    {
     "data": {
      "text/plain": [
       "[[1.0, 0.02440148552508736],\n",
       " [0.6982901263427028, 0.2964516456246201],\n",
       " [0.6426795244455412, 0.3921586771539498],\n",
       " [0.6022031269458502, 0.4597301128179126],\n",
       " [0.567133781799143, 0.5199146440991625],\n",
       " [0.5328445430954903, 0.5668379970277644],\n",
       " [0.49739438107509854, 0.6239904395445651],\n",
       " [0.45746099550145086, 0.6842926801326068],\n",
       " [0.4107960913454792, 0.7444934918334355],\n",
       " [0.3436185255070771, 0.8224764993843289],\n",
       " [0.0396784074091027, 0.9410181604360314]]"
      ]
     },
     "execution_count": 21,
     "metadata": {},
     "output_type": "execute_result"
    }
   ],
   "source": [
    "pr"
   ]
  },
  {
   "cell_type": "code",
   "execution_count": 23,
   "metadata": {},
   "outputs": [
    {
     "data": {
      "text/plain": [
       "(11, 2)"
      ]
     },
     "execution_count": 23,
     "metadata": {},
     "output_type": "execute_result"
    }
   ],
   "source": [
    "pr = np.array(pr)\n",
    "pr = np.flip(pr, axis=0)\n",
    "pr.shape"
   ]
  },
  {
   "cell_type": "code",
   "execution_count": 17,
   "metadata": {},
   "outputs": [
    {
     "data": {
      "text/plain": [
       "array([[1.        , 0.94101816],\n",
       "       [0.69829013, 0.94101816],\n",
       "       [0.64267952, 0.94101816],\n",
       "       [0.60220313, 0.94101816],\n",
       "       [0.56713378, 0.94101816],\n",
       "       [0.53284454, 0.94101816],\n",
       "       [0.49739438, 0.94101816],\n",
       "       [0.457461  , 0.94101816],\n",
       "       [0.41079609, 0.94101816],\n",
       "       [0.34361853, 0.94101816],\n",
       "       [0.03967841, 0.94101816]])"
      ]
     },
     "execution_count": 17,
     "metadata": {},
     "output_type": "execute_result"
    }
   ],
   "source": [
    "for i in range(pr.shape[0]):\n",
    "    pr[i, 1] = np.max(pr[:i, 1])\n",
    "pr"
   ]
  },
  {
   "cell_type": "code",
   "execution_count": 12,
   "metadata": {},
   "outputs": [
    {
     "data": {
      "text/plain": [
       "0.3443067710989666"
      ]
     },
     "execution_count": 12,
     "metadata": {},
     "output_type": "execute_result"
    }
   ],
   "source": [
    "s = 0\n",
    "for i in range(pr.shape[0]):\n",
    "    if i==0:\n",
    "        dx = pr[i, 0]\n",
    "        y = pr[i, 1]\n",
    "        s+=dx*y\n",
    "    elif i==pr.shape[0]-1:\n",
    "        dx = 1 - pr[i, 0]\n",
    "        y = pr[i, 1]\n",
    "        s+=dx*y\n",
    "    else:\n",
    "        dx = pr[i+1, 0] - pr[i, 0]\n",
    "        y = pr[i, 1]\n",
    "        s+=dx*y\n",
    "s"
   ]
  },
  {
   "cell_type": "code",
   "execution_count": 13,
   "metadata": {},
   "outputs": [
    {
     "data": {
      "image/png": "[encoded data removed]",
      "text/plain": [
       "<Figure size 576x576 with 1 Axes>"
      ]
     },
     "metadata": {
      "needs_background": "light"
     },
     "output_type": "display_data"
    }
   ],
   "source": [
    "plt.figure(figsize=(8, 8))\n",
    "x = pr[:, 0]\n",
    "y = pr[:, 1]\n",
    "plt.plot(x, y, 'r-',label='Combined')\n",
    "\n",
    "plt.title('Precision Recall')\n",
    "plt.ylabel('Precision')\n",
    "plt.xlabel('Recall')\n",
    "plt.legend(loc='lower right')\n",
    "#plt.savefig('graphics/Accuracy.png')\n",
    "plt.show()"
   ]
  },
  {
   "cell_type": "code",
   "execution_count": 14,
   "metadata": {},
   "outputs": [],
   "source": [
    "def compute_mAP(X, Y):\n",
    "    #X -> Recall\n",
    "    #Y -> Precision\n",
    "    dx = np.diff(X)\n",
    "    X_ = np.array([])\n",
    "    Y_ = np.array([])\n",
    "    \n",
    "    eps = 5e-3\n",
    "    for i in range(len(dx)):\n",
    "        if dx[i] > eps:\n",
    "            x0 = X[i]; x1 = X[i+1]\n",
    "            y0 = Y[i]; y1 = Y[i+1]\n",
    "            a = (y1 - y0) / (x1 - x0)\n",
    "            b = y0 - a * x0\n",
    "            x = np.arange(x0, x1, eps)\n",
    "            y = a * x + b                \n",
    "            X_ = np.concatenate((X_, x))\n",
    "            Y_ = np.concatenate((Y_, y))\n",
    "        else:\n",
    "            X_ = np.concatenate((X_, X[i:i+1]))\n",
    "            Y_ = np.concatenate((Y_, Y[i:i+1]))\n",
    "                    \n",
    "    X_ = np.concatenate((X_, X[-1:]))\n",
    "    Y_ = np.concatenate((Y_, Y[-1:]))\n",
    "    \n",
    "    new_dx = np.diff(X_)\n",
    "    map_ = 100 * np.inner(Y_[:-1], new_dx)\n",
    "    \n",
    "    return map_"
   ]
  },
  {
   "cell_type": "code",
   "execution_count": 24,
   "metadata": {},
   "outputs": [
    {
     "name": "stdout",
     "output_type": "stream",
     "text": [
      "mAP:  52.40700645690535\n"
     ]
    },
    {
     "data": {
      "image/png": "[encoded data removed]",
      "text/plain": [
       "<Figure size 432x288 with 1 Axes>"
      ]
     },
     "metadata": {
      "needs_background": "light"
     },
     "output_type": "display_data"
    }
   ],
   "source": [
    "Recall = pr[:,0]\n",
    "Precision = pr[:,1]\n",
    "\n",
    "mAP = compute_mAP(Recall, Precision)\n",
    "print('mAP: ', mAP)\n",
    "\n",
    "plt.close('all')\n",
    "plt.plot(Recall, Precision)\n",
    "plt.grid()"
   ]
  },
  {
   "cell_type": "code",
   "execution_count": 25,
   "metadata": {},
   "outputs": [],
   "source": [
    "import numpy as np\n",
    "import skimage.morphology\n",
    "from sklearn.metrics import confusion_matrix\n",
    "\n",
    "def compute_matrics(thresholds, prob_map, labels, test_mask, area_no_considered):   \n",
    "    metrics_all = []\n",
    "    \n",
    "    for thr in thresholds:\n",
    "        print(thr)  \n",
    "\n",
    "        img_reconstructed = np.zeros_like(prob_map).astype(np.int8)\n",
    "        img_reconstructed[prob_map >= thr] = 1\n",
    "        \n",
    "        # Mask to remove areas < 6.25 ha\n",
    "        mask_areas_pred = np.ones_like(labels)\n",
    "        area = skimage.morphology.area_opening(img_reconstructed, area_threshold = area_no_considered, connectivity=1)\n",
    "        area_no_consider = img_reconstructed-area\n",
    "        mask_areas_pred[area_no_consider==1] = 0\n",
    "        \n",
    "        # Mask of edges no considered \n",
    "        mask_borders = np.ones_like(img_reconstructed)\n",
    "        mask_borders[labels==2] = 0\n",
    "        \n",
    "        mask_no_consider = mask_areas_pred * mask_borders \n",
    "        ref_consider = mask_no_consider * labels\n",
    "        pred_consider = mask_no_consider*img_reconstructed\n",
    "        \n",
    "        ref_final = ref_consider[test_mask==1]\n",
    "        pre_final = pred_consider[test_mask==1]\n",
    "        \n",
    "        # Metrics\n",
    "        cm = confusion_matrix(ref_final, pre_final)\n",
    "        #TN = cm[0,0]\n",
    "        FN = cm[1,0]\n",
    "        TP = cm[1,1]\n",
    "        FP = cm[0,1]\n",
    "        precision_ = TP/(TP+FP)\n",
    "        recall_ = TP/(TP+FN)\n",
    "        rec_pre = np.hstack((recall_, precision_))\n",
    "        metrics_all.append(rec_pre)\n",
    "    out_metrics = np.asarray(metrics_all)\n",
    "    return out_metrics\n"
   ]
  },
  {
   "cell_type": "code",
   "execution_count": null,
   "metadata": {},
   "outputs": [],
   "source": [
    "test_mask = np.zeros_like(labels)\n",
    "test_tiles = [2, 4, 5, 9, 10, 11, 13, 15, 18]\n",
    "split_v = 6\n",
    "split_h = 3\n",
    "lines = np.array_split(range(labels.shape[0]), split_v)\n",
    "cols = np.array_split(range(labels.shape[1]), split_h)\n",
    "i = 0\n",
    "dic = {}\n",
    "for line in lines:\n",
    "    for col in cols:\n",
    "        i+=1\n",
    "        if i not in test_tiles:\n",
    "            continue\n",
    "        test_mask[line[0]:line[-1]+1, col[0]:col[-1]+1] = 1\n",
    "print(np.unique(test_mask))\n",
    "Image.fromarray(np.uint8(255*test_mask))"
   ]
  },
  {
   "cell_type": "code",
   "execution_count": 26,
   "metadata": {},
   "outputs": [
    {
     "name": "stdout",
     "output_type": "stream",
     "text": [
      "1.0\n",
      "0.8888888888888888\n",
      "0.7777777777777778\n",
      "0.6666666666666667\n",
      "0.5555555555555556\n",
      "0.4444444444444444\n",
      "0.33333333333333337\n",
      "0.22222222222222232\n",
      "0.11111111111111116\n",
      "0.0\n"
     ]
    }
   ],
   "source": [
    "# Load data\n",
    "mean_prob = np.load('D:\\\\Doutorado PUC\\\\Deep Learning 2\\\\Projeto\\\\cross-fusion\\\\pred_2\\\\fusion.npy')\n",
    "final_mask1 = np.load('D:\\\\Doutorado PUC\\\\Deep Learning 2\\\\Projeto\\\\cross-fusion\\\\imgs\\\\label\\\\labels.npy')\n",
    "#test_mask = np.load('your test mask')\n",
    "\n",
    "\n",
    "\n",
    "ref1 = np.ones_like(final_mask1).astype(np.float32)\n",
    "\n",
    "ref1 [final_mask1 == 2] = 0\n",
    "TileMask = test_mask * ref1\n",
    "GTTruePositives = final_mask1==1\n",
    "    \n",
    "Npoints = 10#50\n",
    "Pmax = np.max(mean_prob[GTTruePositives * TileMask ==1])\n",
    "ProbList = np.linspace(Pmax,0,Npoints)\n",
    "    \n",
    "rec_pre_metrics = compute_matrics(ProbList, mean_prob, final_mask1, test_mask, 625)\n",
    "#np.save(path_exp+'/acc_metrics.npy',rec_pre_metrics)"
   ]
  },
  {
   "cell_type": "code",
   "execution_count": 27,
   "metadata": {},
   "outputs": [
    {
     "name": "stdout",
     "output_type": "stream",
     "text": [
      "mAP:  52.35227693250122\n"
     ]
    },
    {
     "data": {
      "image/png": "[encoded data removed]",
      "text/plain": [
       "<Figure size 432x288 with 1 Axes>"
      ]
     },
     "metadata": {
      "needs_background": "light"
     },
     "output_type": "display_data"
    }
   ],
   "source": [
    "# Compute mean average prcision\n",
    "Recall = rec_pre_metrics[:,0]\n",
    "Precision = rec_pre_metrics[:,1]\n",
    "\n",
    "mAP = compute_mAP(Recall, Precision)\n",
    "print('mAP: ', mAP)\n",
    "\n",
    "plt.close('all')\n",
    "plt.plot(Recall, Precision)\n",
    "plt.grid()"
   ]
  }
 ],
 "metadata": {
  "interpreter": {
   "hash": "b08b86eefb6f9027df8c705c57ad3330ee722a1038604439ab9df613faded208"
  },
  "kernelspec": {
   "display_name": "Python 3.8.11 64-bit ('proj_2': conda)",
   "name": "python3"
  },
  "language_info": {
   "codemirror_mode": {
    "name": "ipython",
    "version": 3
   },
   "file_extension": ".py",
   "mimetype": "text/x-python",
   "name": "python",
   "nbconvert_exporter": "python",
   "pygments_lexer": "ipython3",
   "version": "3.8.11"
  },
  "orig_nbformat": 4
 },
 "nbformat": 4,
 "nbformat_minor": 2
}
