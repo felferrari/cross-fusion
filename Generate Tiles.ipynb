{
 "cells": [
  {
   "cell_type": "markdown",
   "id": "57ec5a82-4c70-45f7-a022-815b682e1815",
   "metadata": {},
   "source": [
    "# Tiles generation"
   ]
  },
  {
   "cell_type": "markdown",
   "id": "e31c66b9-bb01-4d66-957e-19d69fc23c3e",
   "metadata": {},
   "source": [
    "## Importing"
   ]
  },
  {
   "cell_type": "code",
   "execution_count": 1,
   "id": "f41e366f-c6e7-4bc2-a35d-f0f3ec2f561b",
   "metadata": {},
   "outputs": [],
   "source": [
    "import json\n",
    "from google_drive_downloader import GoogleDriveDownloader as gdd\n",
    "import shutil, os\n",
    "from ops import load_opt, load_sar, generate_save_patches, min_max_scaler\n",
    "import numpy as np\n",
    "import logging\n",
    "from PIL import Image\n",
    "import tensorflow as tf"
   ]
  },
  {
   "cell_type": "code",
   "execution_count": 2,
   "id": "f646670f-2fd5-4d00-b0cc-928ca7bc1b29",
   "metadata": {},
   "outputs": [],
   "source": [
    "logging.basicConfig(filename = 'patches_gen.log', level = logging.DEBUG, format='%(asctime)s %(message)s', datefmt='%d/%m/%Y %H:%M:%S')"
   ]
  },
  {
   "cell_type": "markdown",
   "id": "c95a3d74-6eb7-4078-ac86-7a0809f3de2e",
   "metadata": {},
   "source": [
    "## Setting parameters"
   ]
  },
  {
   "cell_type": "code",
   "execution_count": 8,
   "id": "766984f7-3f83-403e-b23e-15b3f2ef9b2b",
   "metadata": {},
   "outputs": [],
   "source": [
    "logging.info('==============Starting patches generation==============')\n",
    "\n",
    "#load the params-patches.json options\n",
    "with open(os.path.join('v1', 'params-patches.json')) as param_file:\n",
    "    params_patches = json.load(param_file)\n",
    "\n",
    "#load the params-models.json options\n",
    "with open(os.path.join('v1', 'params-model.json')) as param_file:\n",
    "    params_model = json.load(param_file)\n",
    "    \n",
    "#load the params-patches.json options\n",
    "with open(os.path.join('v1', 'params-download.json')) as param_file:\n",
    "    params_download = json.load(param_file)"
   ]
  },
  {
   "cell_type": "code",
   "execution_count": 7,
   "id": "41b5df47-c8d8-45a4-a43a-fea9fe4780b3",
   "metadata": {},
   "outputs": [],
   "source": [
    "img_path = params_patches['img_path']\n",
    "opt_raw = os.path.join(img_path, params_patches['opt_sub'])\n",
    "sar_raw = os.path.join(img_path, params_patches['sar_sub'])\n",
    "label_raw = os.path.join(img_path, params_patches['label_sub'])\n",
    "\n",
    "tiles_patch = params_patches['tiles_patch']"
   ]
  },
  {
   "cell_type": "markdown",
   "id": "fdb5d462-6bfe-42cd-99f6-49b74fd1141d",
   "metadata": {},
   "source": [
    "## Download files, if necessary"
   ]
  },
  {
   "cell_type": "code",
   "execution_count": 5,
   "id": "c3f8a0c0-87a4-43d1-9bd1-0f7cce68ca2f",
   "metadata": {},
   "outputs": [],
   "source": [
    "logging.info('Downloading files')\n",
    "if params_patches['download']:\n",
    "    shutil.rmtree(img_path, ignore_errors=True)\n",
    "    os.makedirs(opt_raw)\n",
    "    os.makedirs(sar_raw)\n",
    "    os.makedirs(label_raw)\n",
    "\n",
    "    #download and save OPT files\n",
    "    for f in params_download['files_opt']:\n",
    "        gdd.download_file_from_google_drive(file_id=f['id'],\n",
    "                                        dest_path=os.path.join(opt_raw, f['name']))\n",
    "\n",
    "    #download and save SAR files\n",
    "    for f in params_download['files_sar']:\n",
    "        gdd.download_file_from_google_drive(file_id=f['id'],\n",
    "                                        dest_path=os.path.join(sar_raw, f['name']))\n",
    "\n",
    "    #download and save LABELS files\n",
    "    for f in params_download['files_labels']:\n",
    "        gdd.download_file_from_google_drive(file_id=f['id'],\n",
    "                                        dest_path=os.path.join(label_raw, f['name']))\n",
    "\n"
   ]
  },
  {
   "cell_type": "code",
   "execution_count": 6,
   "id": "65997557-99c5-4a80-af33-807fdb44ee64",
   "metadata": {},
   "outputs": [],
   "source": [
    "shutil.rmtree(tiles_patch, ignore_errors=True)\n",
    "\n",
    "labels = np.expand_dims(np.load(os.path.join(label_raw, 'labels.npy')), axis=-1)\n",
    "\n",
    "#create preview\n",
    "\n",
    "v_split = np.array_split(labels, params_patches['tiles_h'], axis=1)\n",
    "tiles = []\n",
    "for part in v_split:\n",
    "    h_split = np.array_split(part, params_patches['tiles_v'], axis=0)\n",
    "    for tile in h_split:\n",
    "        tiles.append(tile)\n",
    "\n",
    "for idx, tile in enumerate(tiles):\n",
    "    os.makedirs(os.path.join(tiles_patch, f'{idx+1:02d}'))\n",
    "    np.save(os.path.join(tiles_patch, f'{idx+1:02d}', f'{idx+1:02d}.npy'), tile)"
   ]
  },
  {
   "cell_type": "code",
   "execution_count": null,
   "id": "9faaade4-3fc5-42b9-82cd-618970249133",
   "metadata": {},
   "outputs": [],
   "source": []
  }
 ],
 "metadata": {
  "kernelspec": {
   "display_name": "Python 3 (ipykernel)",
   "language": "python",
   "name": "python3"
  },
  "language_info": {
   "codemirror_mode": {
    "name": "ipython",
    "version": 3
   },
   "file_extension": ".py",
   "mimetype": "text/x-python",
   "name": "python",
   "nbconvert_exporter": "python",
   "pygments_lexer": "ipython3",
   "version": "3.8.11"
  }
 },
 "nbformat": 4,
 "nbformat_minor": 5
}
