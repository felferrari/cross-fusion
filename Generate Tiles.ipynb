{
 "cells": [
  {
   "cell_type": "markdown",
   "metadata": {},
   "source": [
    "# Tiles generation"
   ]
  },
  {
   "cell_type": "markdown",
   "metadata": {},
   "source": [
    "## Importing"
   ]
  },
  {
   "cell_type": "code",
   "execution_count": 1,
   "metadata": {},
   "outputs": [],
   "source": [
    "import json\n",
    "from google_drive_downloader import GoogleDriveDownloader as gdd\n",
    "import shutil, os\n",
    "from ops import load_opt, load_sar, generate_save_patches, min_max_scaler\n",
    "import numpy as np\n",
    "import logging\n",
    "from PIL import Image\n",
    "import tensorflow as tf\n",
    "from sklearn.preprocessing import OneHotEncoder\n",
    "from tensorflow.keras.utils import to_categorical\n",
    "import matplotlib.pyplot as plt\n",
    "from sklearn.preprocessing import MinMaxScaler, StandardScaler\n",
    "#import pickle\n",
    "#import joblib\n"
   ]
  },
  {
   "cell_type": "markdown",
   "metadata": {},
   "source": [
    "## Setting parameters"
   ]
  },
  {
   "cell_type": "code",
   "execution_count": null,
   "metadata": {},
   "outputs": [],
   "source": [
    "#load the params-patches.json options\n",
    "with open(os.path.join('v1', 'params-patches.json')) as param_file:\n",
    "    params_patches = json.load(param_file)\n",
    "\n",
    "#load the params-models.json options\n",
    "with open(os.path.join('v1', 'params-model.json')) as param_file:\n",
    "    params_model = json.load(param_file)\n",
    "    \n",
    "#load the params-patches.json options\n",
    "with open(os.path.join('v1', 'params-download.json')) as param_file:\n",
    "    params_download = json.load(param_file)"
   ]
  },
  {
   "cell_type": "code",
   "execution_count": null,
   "metadata": {},
   "outputs": [],
   "source": [
    "img_path = params_patches['img_path']\n",
    "data_raw = os.path.join(img_path, params_patches['data_sub']) \n",
    "label_raw = os.path.join(img_path, params_patches['label_sub'])\n",
    "\n",
    "tiles_path = params_patches['tiles_path']"
   ]
  },
  {
   "cell_type": "markdown",
   "metadata": {},
   "source": [
    "## Download files, if necessary"
   ]
  },
  {
   "cell_type": "code",
   "execution_count": null,
   "metadata": {},
   "outputs": [],
   "source": [
    "if params_patches['download']:\n",
    "    shutil.rmtree(img_path, ignore_errors=True)\n",
    "    os.makedirs(data_raw)\n",
    "    os.makedirs(label_raw)\n",
    "\n",
    "    #download and save OPT files\n",
    "    for f in params_download['files_opt']:\n",
    "        gdd.download_file_from_google_drive(file_id=f['id'],\n",
    "                                        dest_path=os.path.join(data_raw, f['name']))\n",
    "\n",
    "    #download and save SAR files\n",
    "    for f in params_download['files_sar']:\n",
    "        gdd.download_file_from_google_drive(file_id=f['id'],\n",
    "                                        dest_path=os.path.join(data_raw, f['name']))\n",
    "\n",
    "    #download and save LABELS files\n",
    "    for f in params_download['files_labels']:\n",
    "        gdd.download_file_from_google_drive(file_id=f['id'],\n",
    "                                        dest_path=os.path.join(label_raw, f['name']))\n",
    "\n"
   ]
  },
  {
   "cell_type": "code",
   "execution_count": null,
   "metadata": {},
   "outputs": [],
   "source": [
    "shutil.rmtree(tiles_path, ignore_errors=True)\n",
    "os.makedirs(tiles_path)\n",
    "os.makedirs(os.path.join(tiles_path, params_patches['label_sub']))\n",
    "os.makedirs(os.path.join(tiles_path, params_patches['data_sub']))"
   ]
  },
  {
   "cell_type": "markdown",
   "metadata": {},
   "source": [
    "## Labels"
   ]
  },
  {
   "cell_type": "code",
   "execution_count": null,
   "metadata": {},
   "outputs": [],
   "source": [
    "labels = np.expand_dims(np.load(os.path.join(label_raw, 'labels.npy')), axis=-1)"
   ]
  },
  {
   "cell_type": "code",
   "execution_count": null,
   "metadata": {},
   "outputs": [],
   "source": [
    "h_split = np.array_split(labels, params_patches['tiles_v'], axis=0)\n",
    "tiles = []\n",
    "for part in h_split:\n",
    "    v_split = np.array_split(part, params_patches['tiles_h'], axis=1)\n",
    "    for tile in v_split:\n",
    "        tiles.append(tile)\n",
    "dic_shapes = {}\n",
    "for idx, tile in enumerate(tiles):\n",
    "    np.save(os.path.join(tiles_path, params_patches['label_sub'], f'label_{idx+1:02d}.npy'), tile)\n",
    "    dic_shapes[idx+1] = tile.shape[0:2]\n"
   ]
  },
  {
   "cell_type": "code",
   "execution_count": null,
   "metadata": {},
   "outputs": [],
   "source": [
    "with open('shapes.json', 'w') as fp:\n",
    "    json.dump(dic_shapes, fp)\n"
   ]
  },
  {
   "cell_type": "code",
   "execution_count": null,
   "metadata": {},
   "outputs": [],
   "source": [
    "categorical = to_categorical(labels, params_model['classes'])\n",
    "img = Image.fromarray(np.uint8(categorical*255))\n",
    "resize = 0.08\n",
    "shape = (int(resize*categorical.shape[1]), int(resize*categorical.shape[0]))\n",
    "img.resize(shape)"
   ]
  },
  {
   "cell_type": "code",
   "execution_count": null,
   "metadata": {},
   "outputs": [],
   "source": [
    "fig, ax = plt.subplots(nrows=params_patches['tiles_v'], ncols=params_patches['tiles_h'], figsize = (10,25))\n",
    "\n",
    "for row_idx, row in enumerate(ax):\n",
    "    for col_idx, col in enumerate(row):\n",
    "        tile_idx = row_idx*params_patches['tiles_h'] + col_idx\n",
    "        categorical = to_categorical(tiles[tile_idx], params_model['classes'])\n",
    "        img = Image.fromarray(np.uint8(categorical*255))\n",
    "        col.axis('off')\n",
    "        col.set_title(f'Tile #{tile_idx+1:02d}')\n",
    "        col.imshow(img)"
   ]
  },
  {
   "cell_type": "code",
   "execution_count": null,
   "metadata": {},
   "outputs": [],
   "source": [
    "del labels, tiles"
   ]
  },
  {
   "cell_type": "markdown",
   "metadata": {},
   "source": [
    "## Optical images"
   ]
  },
  {
   "cell_type": "code",
   "execution_count": null,
   "metadata": {},
   "outputs": [],
   "source": [
    "opt = np.concatenate(\n",
    "    (\n",
    "        load_opt(os.path.join(data_raw, 'opt_01.tif')), \n",
    "        load_opt(os.path.join(data_raw, 'opt_02.tif'))\n",
    "        ),\n",
    "     axis=-1)"
   ]
  },
  {
   "cell_type": "code",
   "execution_count": null,
   "metadata": {},
   "outputs": [],
   "source": [
    "#opt_scaler = MinMaxScaler()\n",
    "opt_scaler = StandardScaler()\n",
    "shape = opt.shape\n",
    "opt = opt_scaler.fit_transform(np.expand_dims(opt.flatten(), axis=-1)).reshape(shape)\n",
    "#pickle.dump(opt_scaler, open('opt_scaler.sav', 'wb'))\n",
    "#joblib.dump(opt_scaler, 'opt_scaler.save') "
   ]
  },
  {
   "cell_type": "code",
   "execution_count": null,
   "metadata": {},
   "outputs": [],
   "source": [
    "np.save(os.path.join(data_raw, 'opt.npy'), opt)"
   ]
  },
  {
   "cell_type": "code",
   "execution_count": null,
   "metadata": {},
   "outputs": [],
   "source": [
    "h_split = np.array_split(opt, params_patches['tiles_v'], axis=0)\n",
    "tiles = []\n",
    "for part in h_split:\n",
    "    v_split = np.array_split(part, params_patches['tiles_h'], axis=1)\n",
    "    for tile in v_split:\n",
    "        tiles.append(tile)\n",
    "\n",
    "for idx, tile in enumerate(tiles):\n",
    "    np.save(os.path.join(tiles_path, params_patches['data_sub'], f'opt_{idx+1:02d}.npy'), tile)"
   ]
  },
  {
   "cell_type": "code",
   "execution_count": null,
   "metadata": {},
   "outputs": [],
   "source": [
    "img = Image.fromarray(np.uint8(opt[:, :, 0:3]*255))\n",
    "resize = 0.08\n",
    "shape = (int(resize*opt.shape[1]), int(resize*opt.shape[0]))\n",
    "img.resize(shape)"
   ]
  },
  {
   "cell_type": "code",
   "execution_count": null,
   "metadata": {},
   "outputs": [],
   "source": [
    "fig, ax = plt.subplots(nrows=params_patches['tiles_v'], ncols=params_patches['tiles_h'], figsize = (10,25))\n",
    "\n",
    "for row_idx, row in enumerate(ax):\n",
    "    for col_idx, col in enumerate(row):\n",
    "        tile_idx = row_idx*params_patches['tiles_h'] + col_idx\n",
    "        categorical = tiles[tile_idx][:, :, 0:3]\n",
    "        img = Image.fromarray(np.uint8(categorical*255))\n",
    "        col.axis('off')\n",
    "        col.set_title(f'Tile #{tile_idx+1:02d}')\n",
    "        col.imshow(img)"
   ]
  },
  {
   "cell_type": "code",
   "execution_count": null,
   "metadata": {},
   "outputs": [],
   "source": [
    "del opt"
   ]
  },
  {
   "cell_type": "markdown",
   "metadata": {},
   "source": [
    "## SAR images"
   ]
  },
  {
   "cell_type": "code",
   "execution_count": null,
   "metadata": {},
   "outputs": [],
   "source": [
    "sar = np.concatenate(\n",
    "    (\n",
    "        load_sar(os.path.join(data_raw, 'sar_01.tif')), \n",
    "        load_sar(os.path.join(data_raw, 'sar_02.tif')),\n",
    "        load_sar(os.path.join(data_raw, 'sar_03.tif')),\n",
    "        load_sar(os.path.join(data_raw, 'sar_04.tif'))\n",
    "        ),\n",
    "     axis=-1)"
   ]
  },
  {
   "cell_type": "code",
   "execution_count": null,
   "metadata": {},
   "outputs": [],
   "source": [
    "#sar_scaler = MinMaxScaler()\n",
    "sar_scaler = StandardScaler()\n",
    "shape = sar.shape\n",
    "sar = sar_scaler.fit_transform(np.expand_dims(sar.flatten(), axis=-1)).reshape(shape)\n",
    "#pickle.dump(sar_scaler, open('sar_scaler.sav', 'wb'))\n",
    "#joblib.dump(sar_scaler, 'sar_scaler.save') "
   ]
  },
  {
   "cell_type": "code",
   "execution_count": null,
   "metadata": {},
   "outputs": [],
   "source": [
    "np.save(os.path.join(data_raw, 'sar.npy'), sar)"
   ]
  },
  {
   "cell_type": "code",
   "execution_count": null,
   "metadata": {},
   "outputs": [],
   "source": [
    "h_split = np.array_split(sar, params_patches['tiles_v'], axis=0)\n",
    "tiles = []\n",
    "for part in h_split:\n",
    "    v_split = np.array_split(part, params_patches['tiles_h'], axis=1)\n",
    "    for tile in v_split:\n",
    "        tiles.append(tile)\n",
    "\n",
    "for idx, tile in enumerate(tiles):\n",
    "    np.save(os.path.join(tiles_path, params_patches['data_sub'], f'sar_{idx+1:02d}.npy'), tile)"
   ]
  },
  {
   "cell_type": "code",
   "execution_count": null,
   "metadata": {},
   "outputs": [],
   "source": [
    "img = Image.fromarray(np.uint8(sar[:, :, 0]*255))\n",
    "resize = 0.08\n",
    "shape = (int(resize*sar.shape[1]), int(resize*sar.shape[0]))\n",
    "img.resize(shape)"
   ]
  },
  {
   "cell_type": "code",
   "execution_count": null,
   "metadata": {},
   "outputs": [],
   "source": [
    "fig, ax = plt.subplots(nrows=params_patches['tiles_v'], ncols=params_patches['tiles_h'], figsize = (10,25))\n",
    "\n",
    "for row_idx, row in enumerate(ax):\n",
    "    for col_idx, col in enumerate(row):\n",
    "        tile_idx = row_idx*params_patches['tiles_h'] + col_idx\n",
    "        categorical = tiles[tile_idx][:, :, 0]\n",
    "        img = Image.fromarray(np.uint8(categorical*255))\n",
    "        col.axis('off')\n",
    "        col.set_title(f'Tile #{tile_idx+1:02d}')\n",
    "        col.imshow(img, cmap = 'gray')"
   ]
  },
  {
   "cell_type": "markdown",
   "metadata": {},
   "source": []
  }
 ],
 "metadata": {
  "interpreter": {
   "hash": "b08b86eefb6f9027df8c705c57ad3330ee722a1038604439ab9df613faded208"
  },
  "kernelspec": {
   "display_name": "Python 3.8.11 64-bit ('proj_2': conda)",
   "name": "python3"
  },
  "language_info": {
   "codemirror_mode": {
    "name": "ipython",
    "version": 3
   },
   "file_extension": ".py",
   "mimetype": "text/x-python",
   "name": "python",
   "nbconvert_exporter": "python",
   "pygments_lexer": "ipython3",
   "version": "3.8.11"
  }
 },
 "nbformat": 4,
 "nbformat_minor": 5
}
