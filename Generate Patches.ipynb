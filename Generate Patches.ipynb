{
 "cells": [
  {
   "cell_type": "markdown",
   "metadata": {},
   "source": [
    "# Tiles generation"
   ]
  },
  {
   "cell_type": "markdown",
   "metadata": {},
   "source": [
    "## Importing"
   ]
  },
  {
   "cell_type": "code",
   "execution_count": 1,
   "metadata": {},
   "outputs": [],
   "source": [
    "import json\n",
    "import shutil, os\n",
    "from ops import generate_patches\n",
    "import numpy as np\n",
    "import tqdm"
   ]
  },
  {
   "cell_type": "markdown",
   "metadata": {},
   "source": [
    "## Setting parameters"
   ]
  },
  {
   "cell_type": "code",
   "execution_count": 2,
   "metadata": {},
   "outputs": [],
   "source": [
    "#load the params-patches.json options\n",
    "with open(os.path.join('v1', 'params-patches.json')) as param_file:\n",
    "    params_patches = json.load(param_file)\n",
    "\n",
    "#load the params-models.json options\n",
    "with open(os.path.join('v1', 'params-model.json')) as param_file:\n",
    "    params_model = json.load(param_file)"
   ]
  },
  {
   "cell_type": "code",
   "execution_count": 3,
   "metadata": {},
   "outputs": [],
   "source": [
    "tiles_path = params_patches['tiles_path']\n",
    "patches_path = params_patches['patches_path']\n",
    "\n",
    "train_path = os.path.join(patches_path, params_patches['train_sub'])\n",
    "val_path = os.path.join(patches_path, params_patches['val_sub'])\n",
    "test_path = os.path.join(patches_path, params_patches['test_sub'])"
   ]
  },
  {
   "cell_type": "code",
   "execution_count": 4,
   "metadata": {},
   "outputs": [],
   "source": [
    "shutil.rmtree(patches_path, ignore_errors=True)\n",
    "os.makedirs(patches_path)\n",
    "os.makedirs(train_path)\n",
    "os.makedirs(val_path)\n",
    "os.makedirs(test_path)"
   ]
  },
  {
   "cell_type": "code",
   "execution_count": 5,
   "metadata": {},
   "outputs": [],
   "source": [
    "minnor_class = 1\n",
    "min_class = 0.02"
   ]
  },
  {
   "cell_type": "markdown",
   "metadata": {},
   "source": [
    "## Training patches"
   ]
  },
  {
   "cell_type": "code",
   "execution_count": 6,
   "metadata": {},
   "outputs": [],
   "source": [
    "data_sub = os.path.join(train_path, params_patches['data_sub'])\n",
    "label_sub = os.path.join(train_path, params_patches['label_sub'])\n",
    "\n",
    "os.makedirs(data_sub)\n",
    "os.makedirs(label_sub)"
   ]
  },
  {
   "cell_type": "code",
   "execution_count": 7,
   "metadata": {},
   "outputs": [],
   "source": [
    "train_tiles = params_patches['train_tiles']"
   ]
  },
  {
   "cell_type": "code",
   "execution_count": 8,
   "metadata": {},
   "outputs": [
    {
     "name": "stderr",
     "output_type": "stream",
     "text": [
      "100%|██████████| 8/8 [03:48<00:00, 28.53s/it]\n"
     ]
    }
   ],
   "source": [
    "for tile_idx in tqdm.tqdm(train_tiles):\n",
    "    skip=[]\n",
    "    label_tile = np.load(os.path.join(tiles_path, params_patches['label_sub'], f'label_{tile_idx:02d}.npy'))\n",
    "    patches = generate_patches(label_tile, params_patches['patch_size'], params_patches['patch_stride'])\n",
    "    for idx, label_patch in enumerate(patches):\n",
    "        if (np.count_nonzero(label_patch == 1)/label_patch.shape[0]*label_patch.shape[1]) < min_class:\n",
    "            skip.append(idx)\n",
    "            continue\n",
    "        np.save(os.path.join(label_sub, f'label_{tile_idx:02d}_{idx:05d}.npy'), label_patch)\n",
    "\n",
    "    opt_tile = np.load(os.path.join(tiles_path, params_patches['data_sub'], f'opt_{tile_idx:02d}.npy'))\n",
    "    patches = generate_patches(opt_tile, params_patches['patch_size'], params_patches['patch_stride'])\n",
    "    for idx, opt_patch in enumerate(patches):\n",
    "        if idx in skip:\n",
    "            continue\n",
    "        np.save(os.path.join(data_sub, f'opt_{tile_idx:02d}_{idx:05d}.npy'), opt_patch)\n",
    "\n",
    "    sar_tile = np.load(os.path.join(tiles_path, params_patches['data_sub'], f'sar_{tile_idx:02d}.npy'))\n",
    "    patches = generate_patches(sar_tile, params_patches['patch_size'], params_patches['patch_stride'])\n",
    "    for idx, sar_patch in enumerate(patches):\n",
    "        if idx in skip:\n",
    "            continue\n",
    "        np.save(os.path.join(data_sub, f'sar_{tile_idx:02d}_{idx:05d}.npy'), sar_patch)\n",
    "       "
   ]
  },
  {
   "cell_type": "markdown",
   "metadata": {},
   "source": [
    "## Validation patches"
   ]
  },
  {
   "cell_type": "code",
   "execution_count": 9,
   "metadata": {},
   "outputs": [],
   "source": [
    "data_sub = os.path.join(val_path, params_patches['data_sub'])\n",
    "label_sub = os.path.join(val_path, params_patches['label_sub'])\n",
    "\n",
    "os.makedirs(data_sub)\n",
    "os.makedirs(label_sub)"
   ]
  },
  {
   "cell_type": "code",
   "execution_count": 10,
   "metadata": {},
   "outputs": [],
   "source": [
    "val_tiles = params_patches['val_tiles']"
   ]
  },
  {
   "cell_type": "code",
   "execution_count": 11,
   "metadata": {},
   "outputs": [
    {
     "name": "stderr",
     "output_type": "stream",
     "text": [
      "100%|██████████| 2/2 [00:51<00:00, 25.73s/it]\n"
     ]
    }
   ],
   "source": [
    "for tile_idx in tqdm.tqdm(val_tiles):\n",
    "    skip=[]\n",
    "    label_tile = np.load(os.path.join(tiles_path, params_patches['label_sub'], f'label_{tile_idx:02d}.npy'))\n",
    "    patches = generate_patches(label_tile, params_patches['patch_size'], params_patches['patch_stride'])\n",
    "    for idx, label_patch in enumerate(patches):\n",
    "        if (np.count_nonzero(label_patch == 1)/label_patch.shape[0]*label_patch.shape[1]) < min_class:\n",
    "            skip.append(idx)\n",
    "            continue\n",
    "        np.save(os.path.join(label_sub, f'label_{tile_idx:02d}_{idx:05d}.npy'), label_patch)\n",
    "\n",
    "    opt_tile = np.load(os.path.join(tiles_path, params_patches['data_sub'], f'opt_{tile_idx:02d}.npy'))\n",
    "    patches = generate_patches(opt_tile, params_patches['patch_size'], params_patches['patch_stride'])\n",
    "    for idx, opt_patch in enumerate(patches):\n",
    "        if idx in skip:\n",
    "            continue\n",
    "        np.save(os.path.join(data_sub, f'opt_{tile_idx:02d}_{idx:05d}.npy'), opt_patch)\n",
    "\n",
    "    sar_tile = np.load(os.path.join(tiles_path, params_patches['data_sub'], f'sar_{tile_idx:02d}.npy'))\n",
    "    patches = generate_patches(sar_tile, params_patches['patch_size'], params_patches['patch_stride'])\n",
    "    for idx, sar_patch in enumerate(patches):\n",
    "        if idx in skip:\n",
    "            continue\n",
    "        np.save(os.path.join(data_sub, f'sar_{tile_idx:02d}_{idx:05d}.npy'), sar_patch)\n",
    "       "
   ]
  },
  {
   "cell_type": "markdown",
   "metadata": {},
   "source": [
    "## Test patches"
   ]
  },
  {
   "cell_type": "code",
   "execution_count": 12,
   "metadata": {},
   "outputs": [],
   "source": [
    "data_sub = os.path.join(test_path, params_patches['data_sub'])\n",
    "label_sub = os.path.join(test_path, params_patches['label_sub'])\n",
    "\n",
    "os.makedirs(data_sub)\n",
    "os.makedirs(label_sub)"
   ]
  },
  {
   "cell_type": "code",
   "execution_count": 13,
   "metadata": {},
   "outputs": [],
   "source": [
    "test_tiles = params_patches['test_tiles']"
   ]
  },
  {
   "cell_type": "code",
   "execution_count": 14,
   "metadata": {},
   "outputs": [
    {
     "name": "stderr",
     "output_type": "stream",
     "text": [
      "100%|██████████| 9/9 [48:51<00:00, 325.68s/it]\n"
     ]
    }
   ],
   "source": [
    "for tile_idx in tqdm.tqdm(test_tiles):\n",
    "    label_tile = np.load(os.path.join(tiles_path, params_patches['label_sub'], f'label_{tile_idx:02d}.npy'))\n",
    "    patches = generate_patches(label_tile, params_patches['patch_size'], params_patches['patch_stride'])\n",
    "    for idx, label_patch in enumerate(patches):\n",
    "        np.save(os.path.join(label_sub, f'label_{tile_idx:02d}_{idx:05d}.npy'), label_patch)\n",
    "\n",
    "    opt_tile = np.load(os.path.join(tiles_path, params_patches['data_sub'], f'opt_{tile_idx:02d}.npy'))\n",
    "    patches = generate_patches(opt_tile, params_patches['patch_size'], params_patches['patch_stride'])\n",
    "    for idx, opt_patch in enumerate(patches):\n",
    "        np.save(os.path.join(data_sub, f'opt_{tile_idx:02d}_{idx:05d}.npy'), opt_patch)\n",
    "\n",
    "\n",
    "    sar_tile = np.load(os.path.join(tiles_path, params_patches['data_sub'], f'sar_{tile_idx:02d}.npy'))\n",
    "    patches = generate_patches(sar_tile, params_patches['patch_size'], params_patches['patch_stride'])\n",
    "    for idx, sar_patch in enumerate(patches):\n",
    "        np.save(os.path.join(data_sub, f'sar_{tile_idx:02d}_{idx:05d}.npy'), sar_patch)\n",
    "       "
   ]
  }
 ],
 "metadata": {
  "interpreter": {
   "hash": "b08b86eefb6f9027df8c705c57ad3330ee722a1038604439ab9df613faded208"
  },
  "kernelspec": {
   "display_name": "Python 3.8.11 64-bit ('proj_2': conda)",
   "name": "python3"
  },
  "language_info": {
   "codemirror_mode": {
    "name": "ipython",
    "version": 3
   },
   "file_extension": ".py",
   "mimetype": "text/x-python",
   "name": "python",
   "nbconvert_exporter": "python",
   "pygments_lexer": "ipython3",
   "version": "3.8.11"
  }
 },
 "nbformat": 4,
 "nbformat_minor": 5
}
