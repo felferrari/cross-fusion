{
 "cells": [
  {
   "cell_type": "markdown",
   "source": [
    "# Tiles generation"
   ],
   "metadata": {}
  },
  {
   "cell_type": "markdown",
   "source": [
    "## Importing"
   ],
   "metadata": {}
  },
  {
   "cell_type": "code",
   "execution_count": 1,
   "source": [
    "import json\r\n",
    "import shutil, os\r\n",
    "from ops import generate_patches\r\n",
    "import numpy as np\r\n",
    "from PIL import Image\r\n",
    "import tensorflow as tf\r\n",
    "import matplotlib.pyplot as plt\r\n",
    "from sklearn.preprocessing import MinMaxScaler\r\n",
    "import pickle\r\n",
    "import tqdm"
   ],
   "outputs": [],
   "metadata": {}
  },
  {
   "cell_type": "markdown",
   "source": [
    "## Setting parameters"
   ],
   "metadata": {}
  },
  {
   "cell_type": "code",
   "execution_count": 2,
   "source": [
    "#load the params-patches.json options\r\n",
    "with open(os.path.join('v1', 'params-patches.json')) as param_file:\r\n",
    "    params_patches = json.load(param_file)\r\n",
    "\r\n",
    "#load the params-models.json options\r\n",
    "with open(os.path.join('v1', 'params-model.json')) as param_file:\r\n",
    "    params_model = json.load(param_file)"
   ],
   "outputs": [],
   "metadata": {}
  },
  {
   "cell_type": "code",
   "execution_count": 3,
   "source": [
    "tiles_path = params_patches['tiles_path']\r\n",
    "patches_path = params_patches['patches_path']\r\n",
    "\r\n",
    "train_path = os.path.join(patches_path, params_patches['train_sub'])\r\n",
    "val_path = os.path.join(patches_path, params_patches['val_sub'])\r\n",
    "test_path = os.path.join(patches_path, params_patches['test_sub'])"
   ],
   "outputs": [],
   "metadata": {}
  },
  {
   "cell_type": "code",
   "execution_count": 4,
   "source": [
    "shutil.rmtree(patches_path, ignore_errors=True)\r\n",
    "os.makedirs(patches_path)\r\n",
    "os.makedirs(train_path)\r\n",
    "os.makedirs(val_path)\r\n",
    "os.makedirs(test_path)"
   ],
   "outputs": [],
   "metadata": {}
  },
  {
   "cell_type": "code",
   "execution_count": 5,
   "source": [
    "minnor_class = 1\r\n",
    "min_class = 0.02"
   ],
   "outputs": [],
   "metadata": {}
  },
  {
   "cell_type": "markdown",
   "source": [
    "## Training patches"
   ],
   "metadata": {}
  },
  {
   "cell_type": "code",
   "execution_count": 6,
   "source": [
    "data_sub = os.path.join(train_path, params_patches['data_sub'])\r\n",
    "label_sub = os.path.join(train_path, params_patches['label_sub'])\r\n",
    "\r\n",
    "os.makedirs(data_sub)\r\n",
    "os.makedirs(label_sub)"
   ],
   "outputs": [],
   "metadata": {}
  },
  {
   "cell_type": "code",
   "execution_count": 7,
   "source": [
    "train_tiles = params_patches['train_tiles']"
   ],
   "outputs": [],
   "metadata": {}
  },
  {
   "cell_type": "code",
   "execution_count": 8,
   "source": [
    "for tile_idx in tqdm.tqdm(train_tiles):\r\n",
    "    skip=[]\r\n",
    "    label_tile = np.load(os.path.join(tiles_path, params_patches['label_sub'], f'label_{tile_idx:02d}.npy'))\r\n",
    "    patches = generate_patches(label_tile, params_patches['patch_size'], params_patches['patch_stride'])\r\n",
    "    for idx, label_patch in enumerate(patches):\r\n",
    "        if (np.count_nonzero(label_patch == 1)/label_patch.shape[0]*label_patch.shape[1]) < min_class:\r\n",
    "            skip.append(idx)\r\n",
    "            continue\r\n",
    "        np.save(os.path.join(label_sub, f'label_{tile_idx:02d}_{idx:05d}.npy'), label_patch)\r\n",
    "\r\n",
    "    opt_tile = np.load(os.path.join(tiles_path, params_patches['data_sub'], f'opt_{tile_idx:02d}.npy'))\r\n",
    "    patches = generate_patches(opt_tile, params_patches['patch_size'], params_patches['patch_stride'])\r\n",
    "    for idx, opt_patch in enumerate(patches):\r\n",
    "        if idx in skip:\r\n",
    "            continue\r\n",
    "        np.save(os.path.join(data_sub, f'opt_{tile_idx:02d}_{idx:05d}.npy'), opt_patch)\r\n",
    "\r\n",
    "    sar_tile = np.load(os.path.join(tiles_path, params_patches['data_sub'], f'sar_{tile_idx:02d}.npy'))\r\n",
    "    patches = generate_patches(sar_tile, params_patches['patch_size'], params_patches['patch_stride'])\r\n",
    "    for idx, sar_patch in enumerate(patches):\r\n",
    "        if idx in skip:\r\n",
    "            continue\r\n",
    "        np.save(os.path.join(data_sub, f'sar_{tile_idx:02d}_{idx:05d}.npy'), sar_patch)\r\n",
    "       "
   ],
   "outputs": [
    {
     "output_type": "stream",
     "name": "stderr",
     "text": [
      "100%|██████████| 8/8 [03:40<00:00, 27.62s/it]\n"
     ]
    }
   ],
   "metadata": {}
  },
  {
   "cell_type": "markdown",
   "source": [
    "## Validation patches"
   ],
   "metadata": {}
  },
  {
   "cell_type": "code",
   "execution_count": 9,
   "source": [
    "data_sub = os.path.join(val_path, params_patches['data_sub'])\r\n",
    "label_sub = os.path.join(val_path, params_patches['label_sub'])\r\n",
    "\r\n",
    "os.makedirs(data_sub)\r\n",
    "os.makedirs(label_sub)"
   ],
   "outputs": [],
   "metadata": {}
  },
  {
   "cell_type": "code",
   "execution_count": 10,
   "source": [
    "val_tiles = params_patches['val_tiles']"
   ],
   "outputs": [],
   "metadata": {}
  },
  {
   "cell_type": "code",
   "execution_count": 11,
   "source": [
    "for tile_idx in tqdm.tqdm(val_tiles):\r\n",
    "    skip=[]\r\n",
    "    label_tile = np.load(os.path.join(tiles_path, params_patches['label_sub'], f'label_{tile_idx:02d}.npy'))\r\n",
    "    patches = generate_patches(label_tile, params_patches['patch_size'], params_patches['patch_stride'])\r\n",
    "    for idx, label_patch in enumerate(patches):\r\n",
    "        if (np.count_nonzero(label_patch == 1)/label_patch.shape[0]*label_patch.shape[1]) < min_class:\r\n",
    "            skip.append(idx)\r\n",
    "            continue\r\n",
    "        np.save(os.path.join(label_sub, f'label_{tile_idx:02d}_{idx:05d}.npy'), label_patch)\r\n",
    "\r\n",
    "    opt_tile = np.load(os.path.join(tiles_path, params_patches['data_sub'], f'opt_{tile_idx:02d}.npy'))\r\n",
    "    patches = generate_patches(opt_tile, params_patches['patch_size'], params_patches['patch_stride'])\r\n",
    "    for idx, opt_patch in enumerate(patches):\r\n",
    "        if idx in skip:\r\n",
    "            continue\r\n",
    "        np.save(os.path.join(data_sub, f'opt_{tile_idx:02d}_{idx:05d}.npy'), opt_patch)\r\n",
    "\r\n",
    "    sar_tile = np.load(os.path.join(tiles_path, params_patches['data_sub'], f'sar_{tile_idx:02d}.npy'))\r\n",
    "    patches = generate_patches(sar_tile, params_patches['patch_size'], params_patches['patch_stride'])\r\n",
    "    for idx, sar_patch in enumerate(patches):\r\n",
    "        if idx in skip:\r\n",
    "            continue\r\n",
    "        np.save(os.path.join(data_sub, f'sar_{tile_idx:02d}_{idx:05d}.npy'), sar_patch)\r\n",
    "       "
   ],
   "outputs": [
    {
     "output_type": "stream",
     "name": "stderr",
     "text": [
      "100%|██████████| 2/2 [00:40<00:00, 20.15s/it]\n"
     ]
    }
   ],
   "metadata": {}
  },
  {
   "cell_type": "markdown",
   "source": [
    "## Test patches"
   ],
   "metadata": {}
  },
  {
   "cell_type": "code",
   "execution_count": 12,
   "source": [
    "data_sub = os.path.join(test_path, params_patches['data_sub'])\r\n",
    "label_sub = os.path.join(test_path, params_patches['label_sub'])\r\n",
    "\r\n",
    "os.makedirs(data_sub)\r\n",
    "os.makedirs(label_sub)"
   ],
   "outputs": [],
   "metadata": {}
  },
  {
   "cell_type": "code",
   "execution_count": 13,
   "source": [
    "test_tiles = params_patches['test_tiles']"
   ],
   "outputs": [],
   "metadata": {}
  },
  {
   "cell_type": "code",
   "execution_count": 14,
   "source": [
    "for tile_idx in tqdm.tqdm(test_tiles):\r\n",
    "    label_tile = np.load(os.path.join(tiles_path, params_patches['label_sub'], f'label_{tile_idx:02d}.npy'))\r\n",
    "    patches = generate_patches(label_tile, params_patches['patch_size'], params_patches['patch_stride'])\r\n",
    "    for idx, label_patch in enumerate(patches):\r\n",
    "        np.save(os.path.join(label_sub, f'label_{tile_idx:02d}_{idx:05d}.npy'), label_patch)\r\n",
    "\r\n",
    "    opt_tile = np.load(os.path.join(tiles_path, params_patches['data_sub'], f'opt_{tile_idx:02d}.npy'))\r\n",
    "    patches = generate_patches(opt_tile, params_patches['patch_size'], params_patches['patch_stride'])\r\n",
    "    for idx, opt_patch in enumerate(patches):\r\n",
    "        np.save(os.path.join(data_sub, f'opt_{tile_idx:02d}_{idx:05d}.npy'), opt_patch)\r\n",
    "\r\n",
    "\r\n",
    "    sar_tile = np.load(os.path.join(tiles_path, params_patches['data_sub'], f'sar_{tile_idx:02d}.npy'))\r\n",
    "    patches = generate_patches(sar_tile, params_patches['patch_size'], params_patches['patch_stride'])\r\n",
    "    for idx, sar_patch in enumerate(patches):\r\n",
    "        np.save(os.path.join(data_sub, f'sar_{tile_idx:02d}_{idx:05d}.npy'), sar_patch)\r\n",
    "       "
   ],
   "outputs": [
    {
     "output_type": "stream",
     "name": "stderr",
     "text": [
      "100%|██████████| 9/9 [50:08<00:00, 334.32s/it]\n"
     ]
    }
   ],
   "metadata": {}
  }
 ],
 "metadata": {
  "kernelspec": {
   "name": "python3",
   "display_name": "Python 3.8.11 64-bit ('proj_2': conda)"
  },
  "language_info": {
   "codemirror_mode": {
    "name": "ipython",
    "version": 3
   },
   "file_extension": ".py",
   "mimetype": "text/x-python",
   "name": "python",
   "nbconvert_exporter": "python",
   "pygments_lexer": "ipython3",
   "version": "3.8.11"
  },
  "interpreter": {
   "hash": "b08b86eefb6f9027df8c705c57ad3330ee722a1038604439ab9df613faded208"
  }
 },
 "nbformat": 4,
 "nbformat_minor": 5
}