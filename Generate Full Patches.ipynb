{
 "cells": [
  {
   "cell_type": "markdown",
   "metadata": {},
   "source": [
    "# Full patches generation"
   ]
  },
  {
   "cell_type": "markdown",
   "metadata": {},
   "source": [
    "## Importing"
   ]
  },
  {
   "cell_type": "code",
   "execution_count": 1,
   "metadata": {},
   "outputs": [],
   "source": [
    "import json\n",
    "import shutil, os\n",
    "from ops import generate_save_patches, load_opt, load_sar\n",
    "import numpy as np\n",
    "import tqdm\n",
    "from sklearn.preprocessing import MinMaxScaler\n"
   ]
  },
  {
   "cell_type": "markdown",
   "metadata": {},
   "source": [
    "## Setting parameters"
   ]
  },
  {
   "cell_type": "code",
   "execution_count": 2,
   "metadata": {},
   "outputs": [],
   "source": [
    "#load the params-patches.json options\n",
    "with open(os.path.join('v1', 'params-patches.json')) as param_file:\n",
    "    params_patches = json.load(param_file)\n",
    "\n",
    "#load the params-models.json options\n",
    "with open(os.path.join('v1', 'params-model.json')) as param_file:\n",
    "    params_model = json.load(param_file)"
   ]
  },
  {
   "cell_type": "code",
   "execution_count": 3,
   "metadata": {},
   "outputs": [],
   "source": [
    "img_path = params_patches['img_path']\n",
    "data_raw = os.path.join(img_path, params_patches['data_sub']) \n",
    "label_raw = os.path.join(img_path, params_patches['label_sub'])\n",
    "\n",
    "full_path = params_patches['full_path']"
   ]
  },
  {
   "cell_type": "code",
   "execution_count": 4,
   "metadata": {},
   "outputs": [],
   "source": [
    "shutil.rmtree(full_path, ignore_errors=True)\n",
    "os.makedirs(full_path)\n",
    "os.makedirs(os.path.join(full_path, params_patches['label_sub']))\n",
    "os.makedirs(os.path.join(full_path, params_patches['data_sub']))"
   ]
  },
  {
   "cell_type": "markdown",
   "metadata": {},
   "source": [
    "## Labels"
   ]
  },
  {
   "cell_type": "code",
   "execution_count": 5,
   "metadata": {},
   "outputs": [
    {
     "name": "stderr",
     "output_type": "stream",
     "text": [
      "100%|██████████| 555/555 [27:17<00:00,  2.95s/it]\n"
     ]
    }
   ],
   "source": [
    "labels = np.expand_dims(np.load(os.path.join(label_raw, 'labels.npy')), axis=-1)\n",
    "generate_save_patches(labels, params_patches['patch_size'], params_patches['patch_stride'], os.path.join(full_path, params_patches['label_sub']), 'label')\n",
    "del labels"
   ]
  },
  {
   "cell_type": "markdown",
   "metadata": {},
   "source": [
    "## Optical"
   ]
  },
  {
   "cell_type": "code",
   "execution_count": 6,
   "metadata": {},
   "outputs": [],
   "source": [
    "opt = np.concatenate(\n",
    "    (\n",
    "        load_opt(os.path.join(data_raw, 'opt_01.tif')), \n",
    "        load_opt(os.path.join(data_raw, 'opt_02.tif'))\n",
    "        ),\n",
    "     axis=-1)"
   ]
  },
  {
   "cell_type": "code",
   "execution_count": 7,
   "metadata": {},
   "outputs": [],
   "source": [
    "opt_scaler = MinMaxScaler()\n",
    "shape = opt.shape\n",
    "opt = opt_scaler.fit_transform(np.expand_dims(opt.flatten(), axis=-1)).reshape(shape)"
   ]
  },
  {
   "cell_type": "code",
   "execution_count": 8,
   "metadata": {},
   "outputs": [
    {
     "name": "stderr",
     "output_type": "stream",
     "text": [
      "100%|██████████| 555/555 [51:59<00:00,  5.62s/it]\n"
     ]
    }
   ],
   "source": [
    "generate_save_patches(opt, params_patches['patch_size'], params_patches['patch_stride'], os.path.join(full_path, params_patches['data_sub']), 'opt')\n",
    "del opt"
   ]
  },
  {
   "cell_type": "markdown",
   "metadata": {},
   "source": [
    "## SAR"
   ]
  },
  {
   "cell_type": "code",
   "execution_count": 9,
   "metadata": {},
   "outputs": [],
   "source": [
    "sar = np.concatenate(\n",
    "    (\n",
    "        load_sar(os.path.join(data_raw, 'sar_01.tif')), \n",
    "        load_sar(os.path.join(data_raw, 'sar_02.tif')),\n",
    "        load_sar(os.path.join(data_raw, 'sar_03.tif')),\n",
    "        load_sar(os.path.join(data_raw, 'sar_04.tif'))\n",
    "        ),\n",
    "     axis=-1)"
   ]
  },
  {
   "cell_type": "code",
   "execution_count": 10,
   "metadata": {},
   "outputs": [],
   "source": [
    "sar_scaler = MinMaxScaler()\n",
    "shape = sar.shape\n",
    "sar = sar_scaler.fit_transform(np.expand_dims(sar.flatten(), axis=-1)).reshape(shape)"
   ]
  },
  {
   "cell_type": "code",
   "execution_count": 11,
   "metadata": {},
   "outputs": [
    {
     "name": "stderr",
     "output_type": "stream",
     "text": [
      "100%|██████████| 555/555 [41:29<00:00,  4.49s/it]\n"
     ]
    }
   ],
   "source": [
    "generate_save_patches(sar, params_patches['patch_size'], params_patches['patch_stride'], os.path.join(full_path, params_patches['data_sub']), 'sar')\n",
    "del sar"
   ]
  }
 ],
 "metadata": {
  "interpreter": {
   "hash": "b08b86eefb6f9027df8c705c57ad3330ee722a1038604439ab9df613faded208"
  },
  "kernelspec": {
   "display_name": "Python 3.8.11 64-bit ('proj_2': conda)",
   "name": "python3"
  },
  "language_info": {
   "codemirror_mode": {
    "name": "ipython",
    "version": 3
   },
   "file_extension": ".py",
   "mimetype": "text/x-python",
   "name": "python",
   "nbconvert_exporter": "python",
   "pygments_lexer": "ipython3",
   "version": "3.8.11"
  }
 },
 "nbformat": 4,
 "nbformat_minor": 5
}
