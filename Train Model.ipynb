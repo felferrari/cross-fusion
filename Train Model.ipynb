{
 "cells": [
  {
   "cell_type": "markdown",
   "metadata": {},
   "source": [
    "# Model Training"
   ]
  },
  {
   "cell_type": "markdown",
   "metadata": {},
   "source": [
    "## Importing"
   ]
  },
  {
   "cell_type": "code",
   "execution_count": 1,
   "metadata": {},
   "outputs": [],
   "source": [
    "import tensorflow as tf\n",
    "from tensorflow.keras.optimizers.schedules import InverseTimeDecay\n",
    "from model.models import Model_1, Model_2\n",
    "from testing import test_model, pred_patches\n",
    "from dataloader import DataLoader\n",
    "from model.losses import FocalLoss, WBCE, WCCE\n",
    "from model.callbacks import UpdateAccuracy\n",
    "from ops import reconstruct_image\n",
    "import os\n",
    "import json\n",
    "import shutil\n",
    "import matplotlib.pyplot as plt\n",
    "import numpy as np\n",
    "from tqdm import tqdm\n",
    "from PIL import Image\n",
    "from tensorflow.keras.utils import to_categorical\n",
    "from sklearn.metrics import average_precision_score"
   ]
  },
  {
   "cell_type": "markdown",
   "metadata": {},
   "source": [
    "## Parameters"
   ]
  },
  {
   "cell_type": "code",
   "execution_count": 2,
   "metadata": {},
   "outputs": [],
   "source": [
    "# load the params-patches.json options\n",
    "with open(os.path.join('v1', 'params-patches.json')) as param_file:\n",
    "    params_patches = json.load(param_file)\n",
    "\n",
    "# load the params-patches.json options\n",
    "with open(os.path.join('v1', 'params-training.json')) as param_file:\n",
    "    params_training = json.load(param_file)\n",
    "    \n",
    "#load the params-model.json options\n",
    "with open(os.path.join('v1', 'params-model.json')) as param_file:\n",
    "    params_model = json.load(param_file)\n",
    "\n",
    "#load the shapes.json options\n",
    "with open('shapes.json') as param_file:\n",
    "    shapes_json = json.load(param_file)"
   ]
  },
  {
   "cell_type": "code",
   "execution_count": 3,
   "metadata": {},
   "outputs": [],
   "source": [
    "patches_path = params_patches['patches_path']\n",
    "\n",
    "train_path = os.path.join(patches_path, params_patches['train_sub'])\n",
    "val_path = os.path.join(patches_path, params_patches['val_sub'])\n",
    "test_path = os.path.join(patches_path, params_patches['test_sub'])\n",
    "full_path = params_patches['full_path']\n"
   ]
  },
  {
   "cell_type": "markdown",
   "metadata": {},
   "source": [
    "## Setting Dataloaders"
   ]
  },
  {
   "cell_type": "code",
   "execution_count": 4,
   "metadata": {},
   "outputs": [],
   "source": [
    "dl_train = DataLoader(\n",
    "    batch_size = params_training['batch_size'],\n",
    "    data_path=os.path.join(train_path, params_patches['data_sub']),\n",
    "    label_path=os.path.join(train_path, params_patches['label_sub']),\n",
    "    patch_size=128,\n",
    "    opt_bands=8,\n",
    "    sar_bands=4,\n",
    "    num_classes=3,\n",
    "    shuffle=True#, \n",
    "    #limit=params_training['patch_limit']\n",
    ")\n",
    "\n",
    "dl_val = DataLoader(\n",
    "    batch_size=params_training['batch_size'],\n",
    "    data_path=os.path.join(val_path, params_patches['data_sub']),\n",
    "    label_path=os.path.join(val_path, params_patches['label_sub']),\n",
    "    patch_size=128,\n",
    "    opt_bands=8,\n",
    "    sar_bands=4,\n",
    "    num_classes=3#,\n",
    "    #limit=params_training['patch_limit']\n",
    ")"
   ]
  },
  {
   "cell_type": "markdown",
   "metadata": {},
   "source": [
    "## Model definition"
   ]
  },
  {
   "cell_type": "code",
   "execution_count": 5,
   "metadata": {},
   "outputs": [],
   "source": [
    "model = Model_2(name='modelo_1')\n",
    "\n",
    "metrics = {\n",
    "}\n",
    "\n",
    "weights = [0.2, 0.8, 0.0]\n",
    "\n",
    "learning_rate = InverseTimeDecay(\n",
    "    initial_learning_rate=1e-4, \n",
    "    decay_steps=params_training['learning_reduction']*len(dl_train),\n",
    "    decay_rate = 0.01,\n",
    "    staircase=True\n",
    "    )\n",
    "\n",
    "optimizers = {\n",
    "    'opt': tf.keras.optimizers.Adam(learning_rate = learning_rate),\n",
    "    'sar': tf.keras.optimizers.Adam(learning_rate = learning_rate),\n",
    "    'fusion': tf.keras.optimizers.Adam(learning_rate = learning_rate),\n",
    "}\n",
    "\n",
    "class_indexes = [0, 1]\n",
    "\n",
    "model.compile(\n",
    "    optimizers = optimizers,\n",
    "    loss_fn = WBCE,\n",
    "    metrics_dict = metrics,\n",
    "    class_weights = weights,\n",
    "    class_indexes = class_indexes,\n",
    "    run_eagerly=params_training['run_eagerly']\n",
    ")"
   ]
  },
  {
   "cell_type": "code",
   "execution_count": 6,
   "metadata": {},
   "outputs": [
    {
     "name": "stdout",
     "output_type": "stream",
     "text": [
      "Epoch 1/200\n",
      "330/330 [==============================] - 48s 129ms/step - opt_loss: 0.6373 - sar_loss: 1.1438 - fusion_loss: 1.5190 - loss: 3.3001 - opt_accuracy: 0.7081 - sar_accuracy: 0.5985 - fusion_accuracy: 0.5759 - combined_accuracy: 0.6833 - opt_f1score: 0.6548 - sar_f1score: 0.2807 - fusion_f1score: 0.3152 - combined_f1score: 0.4734 - val_opt_loss: 0.5603 - val_sar_loss: 0.5689 - val_fusion_loss: 0.8165 - val_loss: 1.9457 - val_opt_accuracy: 0.6464 - val_sar_accuracy: 0.6592 - val_fusion_accuracy: 0.6374 - val_combined_accuracy: 0.6614 - val_opt_f1score: 0.4971 - val_sar_f1score: 0.3041 - val_fusion_f1score: 0.2494 - val_combined_f1score: 0.4999\n",
      "Epoch 2/200\n",
      "330/330 [==============================] - 39s 118ms/step - opt_loss: 0.5545 - sar_loss: 1.1359 - fusion_loss: 1.4354 - loss: 3.1258 - opt_accuracy: 0.7296 - sar_accuracy: 0.5886 - fusion_accuracy: 0.5700 - combined_accuracy: 0.6877 - opt_f1score: 0.6993 - sar_f1score: 0.2713 - fusion_f1score: 0.3139 - combined_f1score: 0.4910 - val_opt_loss: 0.3404 - val_sar_loss: 0.6596 - val_fusion_loss: 0.8391 - val_loss: 1.8391 - val_opt_accuracy: 0.8005 - val_sar_accuracy: 0.6606 - val_fusion_accuracy: 0.5997 - val_combined_accuracy: 0.7257 - val_opt_f1score: 0.7047 - val_sar_f1score: 0.2576 - val_fusion_f1score: 0.2058 - val_combined_f1score: 0.6472\n",
      "Epoch 3/200\n",
      "330/330 [==============================] - 39s 118ms/step - opt_loss: 0.5119 - sar_loss: 1.1189 - fusion_loss: 1.4182 - loss: 3.0491 - opt_accuracy: 0.7616 - sar_accuracy: 0.5867 - fusion_accuracy: 0.5674 - combined_accuracy: 0.6975 - opt_f1score: 0.7303 - sar_f1score: 0.2723 - fusion_f1score: 0.3103 - combined_f1score: 0.5071 - val_opt_loss: 0.3493 - val_sar_loss: 0.6118 - val_fusion_loss: 0.8606 - val_loss: 1.8217 - val_opt_accuracy: 0.8101 - val_sar_accuracy: 0.6489 - val_fusion_accuracy: 0.6193 - val_combined_accuracy: 0.6951 - val_opt_f1score: 0.6844 - val_sar_f1score: 0.2025 - val_fusion_f1score: 0.2274 - val_combined_f1score: 0.6286\n",
      "Epoch 4/200\n",
      "330/330 [==============================] - 39s 117ms/step - opt_loss: 0.4813 - sar_loss: 1.1165 - fusion_loss: 1.4015 - loss: 2.9994 - opt_accuracy: 0.7786 - sar_accuracy: 0.5793 - fusion_accuracy: 0.5675 - combined_accuracy: 0.7005 - opt_f1score: 0.7442 - sar_f1score: 0.2700 - fusion_f1score: 0.3098 - combined_f1score: 0.5184 - val_opt_loss: 0.4891 - val_sar_loss: 0.6376 - val_fusion_loss: 0.7764 - val_loss: 1.9030 - val_opt_accuracy: 0.8123 - val_sar_accuracy: 0.6491 - val_fusion_accuracy: 0.6437 - val_combined_accuracy: 0.6920 - val_opt_f1score: 0.6234 - val_sar_f1score: 0.2063 - val_fusion_f1score: 0.2400 - val_combined_f1score: 0.5686.4017 - loss: 3.0013 - opt_accuracy: 0.7782 - sar_accuracy: 0.5791 - fusion_accuracy: 0.5673 - combined_accuracy: 0.7001 - opt_f1score: 0.7430 - sar_f1score: 0.2693 - fusion_f1score: 0.3094 - com\n",
      "Epoch 5/200\n",
      "330/330 [==============================] - 39s 119ms/step - opt_loss: 0.4514 - sar_loss: 1.1093 - fusion_loss: 1.3808 - loss: 2.9415 - opt_accuracy: 0.7906 - sar_accuracy: 0.5792 - fusion_accuracy: 0.5681 - combined_accuracy: 0.7047 - opt_f1score: 0.7639 - sar_f1score: 0.2712 - fusion_f1score: 0.3102 - combined_f1score: 0.5305 - val_opt_loss: 0.3804 - val_sar_loss: 0.7304 - val_fusion_loss: 0.5910 - val_loss: 1.7017 - val_opt_accuracy: 0.8329 - val_sar_accuracy: 0.6202 - val_fusion_accuracy: 0.5771 - val_combined_accuracy: 0.7437 - val_opt_f1score: 0.7024 - val_sar_f1score: 0.1309 - val_fusion_f1score: 0.2084 - val_combined_f1score: 0.6491\n",
      "Epoch 6/200\n",
      "330/330 [==============================] - 38s 115ms/step - opt_loss: 0.4291 - sar_loss: 1.1060 - fusion_loss: 1.3717 - loss: 2.9067 - opt_accuracy: 0.8013 - sar_accuracy: 0.5801 - fusion_accuracy: 0.5681 - combined_accuracy: 0.7105 - opt_f1score: 0.7934 - sar_f1score: 0.2734 - fusion_f1score: 0.3135 - combined_f1score: 0.5534 - val_opt_loss: 0.3981 - val_sar_loss: 0.7234 - val_fusion_loss: 0.6711 - val_loss: 1.7925 - val_opt_accuracy: 0.8089 - val_sar_accuracy: 0.6232 - val_fusion_accuracy: 0.5910 - val_combined_accuracy: 0.6913 - val_opt_f1score: 0.6985 - val_sar_f1score: 0.1532 - val_fusion_f1score: 0.1939 - val_combined_f1score: 0.6205\n",
      "Epoch 7/200\n",
      "330/330 [==============================] - 39s 119ms/step - opt_loss: 0.4168 - sar_loss: 1.0997 - fusion_loss: 1.3570 - loss: 2.8735 - opt_accuracy: 0.8070 - sar_accuracy: 0.5782 - fusion_accuracy: 0.5682 - combined_accuracy: 0.7126 - opt_f1score: 0.8047 - sar_f1score: 0.2745 - fusion_f1score: 0.3146 - combined_f1score: 0.5651 - val_opt_loss: 0.3544 - val_sar_loss: 0.6414 - val_fusion_loss: 0.8003 - val_loss: 1.7960 - val_opt_accuracy: 0.7838 - val_sar_accuracy: 0.6293 - val_fusion_accuracy: 0.6416 - val_combined_accuracy: 0.6724 - val_opt_f1score: 0.6649 - val_sar_f1score: 0.1797 - val_fusion_f1score: 0.2023 - val_combined_f1score: 0.5486\n",
      "Epoch 8/200\n",
      " 40/330 [==>...........................] - ETA: 30s - opt_loss: 0.4054 - sar_loss: 1.1020 - fusion_loss: 1.3544 - loss: 2.8618 - opt_accuracy: 0.8188 - sar_accuracy: 0.5764 - fusion_accuracy: 0.5680 - combined_accuracy: 0.7159 - opt_f1score: 0.8194 - sar_f1score: 0.2725 - fusion_f1score: 0.3121 - combined_f1score: 0.5729"
     ]
    },
    {
     "ename": "KeyboardInterrupt",
     "evalue": "",
     "output_type": "error",
     "traceback": [
      "\u001b[1;31m---------------------------------------------------------------------------\u001b[0m",
      "\u001b[1;31mKeyboardInterrupt\u001b[0m                         Traceback (most recent call last)",
      "\u001b[1;32mC:\\Users\\FELFER~1\\AppData\\Local\\Temp/ipykernel_10908/2978479797.py\u001b[0m in \u001b[0;36m<module>\u001b[1;34m\u001b[0m\n\u001b[0;32m      9\u001b[0m \u001b[1;33m\u001b[0m\u001b[0m\n\u001b[0;32m     10\u001b[0m \u001b[1;33m\u001b[0m\u001b[0m\n\u001b[1;32m---> 11\u001b[1;33m history = model.fit(\n\u001b[0m\u001b[0;32m     12\u001b[0m     \u001b[0mx\u001b[0m\u001b[1;33m=\u001b[0m\u001b[0mdl_train\u001b[0m\u001b[1;33m,\u001b[0m\u001b[1;33m\u001b[0m\u001b[1;33m\u001b[0m\u001b[0m\n\u001b[0;32m     13\u001b[0m     \u001b[0mvalidation_data\u001b[0m\u001b[1;33m=\u001b[0m\u001b[0mdl_val\u001b[0m\u001b[1;33m,\u001b[0m\u001b[1;33m\u001b[0m\u001b[1;33m\u001b[0m\u001b[0m\n",
      "\u001b[1;32m~\\AppData\\Roaming\\Python\\Python38\\site-packages\\tensorflow\\python\\keras\\engine\\training.py\u001b[0m in \u001b[0;36mfit\u001b[1;34m(self, x, y, batch_size, epochs, verbose, callbacks, validation_split, validation_data, shuffle, class_weight, sample_weight, initial_epoch, steps_per_epoch, validation_steps, validation_batch_size, validation_freq, max_queue_size, workers, use_multiprocessing)\u001b[0m\n\u001b[0;32m   1098\u001b[0m                 _r=1):\n\u001b[0;32m   1099\u001b[0m               \u001b[0mcallbacks\u001b[0m\u001b[1;33m.\u001b[0m\u001b[0mon_train_batch_begin\u001b[0m\u001b[1;33m(\u001b[0m\u001b[0mstep\u001b[0m\u001b[1;33m)\u001b[0m\u001b[1;33m\u001b[0m\u001b[1;33m\u001b[0m\u001b[0m\n\u001b[1;32m-> 1100\u001b[1;33m               \u001b[0mtmp_logs\u001b[0m \u001b[1;33m=\u001b[0m \u001b[0mself\u001b[0m\u001b[1;33m.\u001b[0m\u001b[0mtrain_function\u001b[0m\u001b[1;33m(\u001b[0m\u001b[0miterator\u001b[0m\u001b[1;33m)\u001b[0m\u001b[1;33m\u001b[0m\u001b[1;33m\u001b[0m\u001b[0m\n\u001b[0m\u001b[0;32m   1101\u001b[0m               \u001b[1;32mif\u001b[0m \u001b[0mdata_handler\u001b[0m\u001b[1;33m.\u001b[0m\u001b[0mshould_sync\u001b[0m\u001b[1;33m:\u001b[0m\u001b[1;33m\u001b[0m\u001b[1;33m\u001b[0m\u001b[0m\n\u001b[0;32m   1102\u001b[0m                 \u001b[0mcontext\u001b[0m\u001b[1;33m.\u001b[0m\u001b[0masync_wait\u001b[0m\u001b[1;33m(\u001b[0m\u001b[1;33m)\u001b[0m\u001b[1;33m\u001b[0m\u001b[1;33m\u001b[0m\u001b[0m\n",
      "\u001b[1;32m~\\AppData\\Roaming\\Python\\Python38\\site-packages\\tensorflow\\python\\eager\\def_function.py\u001b[0m in \u001b[0;36m__call__\u001b[1;34m(self, *args, **kwds)\u001b[0m\n\u001b[0;32m    826\u001b[0m     \u001b[0mtracing_count\u001b[0m \u001b[1;33m=\u001b[0m \u001b[0mself\u001b[0m\u001b[1;33m.\u001b[0m\u001b[0mexperimental_get_tracing_count\u001b[0m\u001b[1;33m(\u001b[0m\u001b[1;33m)\u001b[0m\u001b[1;33m\u001b[0m\u001b[1;33m\u001b[0m\u001b[0m\n\u001b[0;32m    827\u001b[0m     \u001b[1;32mwith\u001b[0m \u001b[0mtrace\u001b[0m\u001b[1;33m.\u001b[0m\u001b[0mTrace\u001b[0m\u001b[1;33m(\u001b[0m\u001b[0mself\u001b[0m\u001b[1;33m.\u001b[0m\u001b[0m_name\u001b[0m\u001b[1;33m)\u001b[0m \u001b[1;32mas\u001b[0m \u001b[0mtm\u001b[0m\u001b[1;33m:\u001b[0m\u001b[1;33m\u001b[0m\u001b[1;33m\u001b[0m\u001b[0m\n\u001b[1;32m--> 828\u001b[1;33m       \u001b[0mresult\u001b[0m \u001b[1;33m=\u001b[0m \u001b[0mself\u001b[0m\u001b[1;33m.\u001b[0m\u001b[0m_call\u001b[0m\u001b[1;33m(\u001b[0m\u001b[1;33m*\u001b[0m\u001b[0margs\u001b[0m\u001b[1;33m,\u001b[0m \u001b[1;33m**\u001b[0m\u001b[0mkwds\u001b[0m\u001b[1;33m)\u001b[0m\u001b[1;33m\u001b[0m\u001b[1;33m\u001b[0m\u001b[0m\n\u001b[0m\u001b[0;32m    829\u001b[0m       \u001b[0mcompiler\u001b[0m \u001b[1;33m=\u001b[0m \u001b[1;34m\"xla\"\u001b[0m \u001b[1;32mif\u001b[0m \u001b[0mself\u001b[0m\u001b[1;33m.\u001b[0m\u001b[0m_experimental_compile\u001b[0m \u001b[1;32melse\u001b[0m \u001b[1;34m\"nonXla\"\u001b[0m\u001b[1;33m\u001b[0m\u001b[1;33m\u001b[0m\u001b[0m\n\u001b[0;32m    830\u001b[0m       \u001b[0mnew_tracing_count\u001b[0m \u001b[1;33m=\u001b[0m \u001b[0mself\u001b[0m\u001b[1;33m.\u001b[0m\u001b[0mexperimental_get_tracing_count\u001b[0m\u001b[1;33m(\u001b[0m\u001b[1;33m)\u001b[0m\u001b[1;33m\u001b[0m\u001b[1;33m\u001b[0m\u001b[0m\n",
      "\u001b[1;32m~\\AppData\\Roaming\\Python\\Python38\\site-packages\\tensorflow\\python\\eager\\def_function.py\u001b[0m in \u001b[0;36m_call\u001b[1;34m(self, *args, **kwds)\u001b[0m\n\u001b[0;32m    853\u001b[0m       \u001b[1;31m# In this case we have created variables on the first call, so we run the\u001b[0m\u001b[1;33m\u001b[0m\u001b[1;33m\u001b[0m\u001b[1;33m\u001b[0m\u001b[0m\n\u001b[0;32m    854\u001b[0m       \u001b[1;31m# defunned version which is guaranteed to never create variables.\u001b[0m\u001b[1;33m\u001b[0m\u001b[1;33m\u001b[0m\u001b[1;33m\u001b[0m\u001b[0m\n\u001b[1;32m--> 855\u001b[1;33m       \u001b[1;32mreturn\u001b[0m \u001b[0mself\u001b[0m\u001b[1;33m.\u001b[0m\u001b[0m_stateless_fn\u001b[0m\u001b[1;33m(\u001b[0m\u001b[1;33m*\u001b[0m\u001b[0margs\u001b[0m\u001b[1;33m,\u001b[0m \u001b[1;33m**\u001b[0m\u001b[0mkwds\u001b[0m\u001b[1;33m)\u001b[0m  \u001b[1;31m# pylint: disable=not-callable\u001b[0m\u001b[1;33m\u001b[0m\u001b[1;33m\u001b[0m\u001b[0m\n\u001b[0m\u001b[0;32m    856\u001b[0m     \u001b[1;32melif\u001b[0m \u001b[0mself\u001b[0m\u001b[1;33m.\u001b[0m\u001b[0m_stateful_fn\u001b[0m \u001b[1;32mis\u001b[0m \u001b[1;32mnot\u001b[0m \u001b[1;32mNone\u001b[0m\u001b[1;33m:\u001b[0m\u001b[1;33m\u001b[0m\u001b[1;33m\u001b[0m\u001b[0m\n\u001b[0;32m    857\u001b[0m       \u001b[1;31m# Release the lock early so that multiple threads can perform the call\u001b[0m\u001b[1;33m\u001b[0m\u001b[1;33m\u001b[0m\u001b[1;33m\u001b[0m\u001b[0m\n",
      "\u001b[1;32m~\\AppData\\Roaming\\Python\\Python38\\site-packages\\tensorflow\\python\\eager\\function.py\u001b[0m in \u001b[0;36m__call__\u001b[1;34m(self, *args, **kwargs)\u001b[0m\n\u001b[0;32m   2940\u001b[0m       (graph_function,\n\u001b[0;32m   2941\u001b[0m        filtered_flat_args) = self._maybe_define_function(args, kwargs)\n\u001b[1;32m-> 2942\u001b[1;33m     return graph_function._call_flat(\n\u001b[0m\u001b[0;32m   2943\u001b[0m         filtered_flat_args, captured_inputs=graph_function.captured_inputs)  # pylint: disable=protected-access\n\u001b[0;32m   2944\u001b[0m \u001b[1;33m\u001b[0m\u001b[0m\n",
      "\u001b[1;32m~\\AppData\\Roaming\\Python\\Python38\\site-packages\\tensorflow\\python\\eager\\function.py\u001b[0m in \u001b[0;36m_call_flat\u001b[1;34m(self, args, captured_inputs, cancellation_manager)\u001b[0m\n\u001b[0;32m   1916\u001b[0m         and executing_eagerly):\n\u001b[0;32m   1917\u001b[0m       \u001b[1;31m# No tape is watching; skip to running the function.\u001b[0m\u001b[1;33m\u001b[0m\u001b[1;33m\u001b[0m\u001b[1;33m\u001b[0m\u001b[0m\n\u001b[1;32m-> 1918\u001b[1;33m       return self._build_call_outputs(self._inference_function.call(\n\u001b[0m\u001b[0;32m   1919\u001b[0m           ctx, args, cancellation_manager=cancellation_manager))\n\u001b[0;32m   1920\u001b[0m     forward_backward = self._select_forward_and_backward_functions(\n",
      "\u001b[1;32m~\\AppData\\Roaming\\Python\\Python38\\site-packages\\tensorflow\\python\\eager\\function.py\u001b[0m in \u001b[0;36mcall\u001b[1;34m(self, ctx, args, cancellation_manager)\u001b[0m\n\u001b[0;32m    553\u001b[0m       \u001b[1;32mwith\u001b[0m \u001b[0m_InterpolateFunctionError\u001b[0m\u001b[1;33m(\u001b[0m\u001b[0mself\u001b[0m\u001b[1;33m)\u001b[0m\u001b[1;33m:\u001b[0m\u001b[1;33m\u001b[0m\u001b[1;33m\u001b[0m\u001b[0m\n\u001b[0;32m    554\u001b[0m         \u001b[1;32mif\u001b[0m \u001b[0mcancellation_manager\u001b[0m \u001b[1;32mis\u001b[0m \u001b[1;32mNone\u001b[0m\u001b[1;33m:\u001b[0m\u001b[1;33m\u001b[0m\u001b[1;33m\u001b[0m\u001b[0m\n\u001b[1;32m--> 555\u001b[1;33m           outputs = execute.execute(\n\u001b[0m\u001b[0;32m    556\u001b[0m               \u001b[0mstr\u001b[0m\u001b[1;33m(\u001b[0m\u001b[0mself\u001b[0m\u001b[1;33m.\u001b[0m\u001b[0msignature\u001b[0m\u001b[1;33m.\u001b[0m\u001b[0mname\u001b[0m\u001b[1;33m)\u001b[0m\u001b[1;33m,\u001b[0m\u001b[1;33m\u001b[0m\u001b[1;33m\u001b[0m\u001b[0m\n\u001b[0;32m    557\u001b[0m               \u001b[0mnum_outputs\u001b[0m\u001b[1;33m=\u001b[0m\u001b[0mself\u001b[0m\u001b[1;33m.\u001b[0m\u001b[0m_num_outputs\u001b[0m\u001b[1;33m,\u001b[0m\u001b[1;33m\u001b[0m\u001b[1;33m\u001b[0m\u001b[0m\n",
      "\u001b[1;32m~\\AppData\\Roaming\\Python\\Python38\\site-packages\\tensorflow\\python\\eager\\execute.py\u001b[0m in \u001b[0;36mquick_execute\u001b[1;34m(op_name, num_outputs, inputs, attrs, ctx, name)\u001b[0m\n\u001b[0;32m     57\u001b[0m   \u001b[1;32mtry\u001b[0m\u001b[1;33m:\u001b[0m\u001b[1;33m\u001b[0m\u001b[1;33m\u001b[0m\u001b[0m\n\u001b[0;32m     58\u001b[0m     \u001b[0mctx\u001b[0m\u001b[1;33m.\u001b[0m\u001b[0mensure_initialized\u001b[0m\u001b[1;33m(\u001b[0m\u001b[1;33m)\u001b[0m\u001b[1;33m\u001b[0m\u001b[1;33m\u001b[0m\u001b[0m\n\u001b[1;32m---> 59\u001b[1;33m     tensors = pywrap_tfe.TFE_Py_Execute(ctx._handle, device_name, op_name,\n\u001b[0m\u001b[0;32m     60\u001b[0m                                         inputs, attrs, num_outputs)\n\u001b[0;32m     61\u001b[0m   \u001b[1;32mexcept\u001b[0m \u001b[0mcore\u001b[0m\u001b[1;33m.\u001b[0m\u001b[0m_NotOkStatusException\u001b[0m \u001b[1;32mas\u001b[0m \u001b[0me\u001b[0m\u001b[1;33m:\u001b[0m\u001b[1;33m\u001b[0m\u001b[1;33m\u001b[0m\u001b[0m\n",
      "\u001b[1;31mKeyboardInterrupt\u001b[0m: "
     ]
    }
   ],
   "source": [
    "callbacks = [\n",
    "    tf.keras.callbacks.EarlyStopping(\n",
    "        monitor='val_opt_loss',\n",
    "        patience = params_training['patience'],\n",
    "        mode = 'min',\n",
    "        restore_best_weights=True),\n",
    "    UpdateAccuracy()\n",
    "]\n",
    "\n",
    "\n",
    "history = model.fit(\n",
    "    x=dl_train,\n",
    "    validation_data=dl_val,\n",
    "    epochs=params_training['epochs_train'],\n",
    "    callbacks=callbacks,\n",
    "    verbose = 1\n",
    "    )"
   ]
  },
  {
   "cell_type": "markdown",
   "metadata": {},
   "source": [
    "## Show training history"
   ]
  },
  {
   "cell_type": "code",
   "execution_count": null,
   "metadata": {},
   "outputs": [],
   "source": [
    "plt.figure(figsize=(15, 8))\n",
    "x = np.arange(len(history.history['loss']))+1\n",
    "plt.plot(x, history.history['loss'], 'r-',label='Total Loss')\n",
    "plt.plot(x, history.history['opt_loss'], 'r:',label='OPT Loss')\n",
    "plt.plot(x, history.history['sar_loss'], 'r--',label='SAR Loss')\n",
    "plt.plot(x, history.history['fusion_loss'], 'r-.',label='FUSION Loss')\n",
    "\n",
    "plt.plot(x, history.history['val_loss'], 'g-',label='Total Val Loss')\n",
    "plt.plot(x, history.history['val_opt_loss'], 'g:',label='OPT Val Loss')\n",
    "plt.plot(x, history.history['val_sar_loss'], 'g--',label='SAR Val Loss')\n",
    "plt.plot(x, history.history['val_fusion_loss'], 'g-.',label='FUSION Val Loss')\n",
    "\n",
    "plt.title('Training Loss')\n",
    "plt.ylabel('Loss')\n",
    "plt.xlabel('epoch')\n",
    "plt.legend(loc='upper right')\n",
    "plt.savefig('graphics/Loss.png')\n",
    "plt.show()"
   ]
  },
  {
   "cell_type": "code",
   "execution_count": null,
   "metadata": {},
   "outputs": [],
   "source": [
    "plt.figure(figsize=(15, 8))\n",
    "x = np.arange(len(history.history['loss']))+1\n",
    "plt.plot(x, history.history['combined_accuracy'], 'r-',label='Combined Accuracy')\n",
    "plt.plot(x, history.history['opt_accuracy'], 'r:',label='OPT Accuracy')\n",
    "plt.plot(x, history.history['sar_accuracy'], 'r--',label='SAR Accuracy')\n",
    "plt.plot(x, history.history['fusion_accuracy'], 'r-.',label='FUSION Accuracy')\n",
    "\n",
    "plt.plot(x, history.history['val_combined_accuracy'], 'g-',label='Combined Val Accuracy')\n",
    "plt.plot(x, history.history['val_opt_accuracy'], 'g:',label='OPT Val Accuracy')\n",
    "plt.plot(x, history.history['val_sar_accuracy'], 'g--',label='SAR Val Accuracy')\n",
    "plt.plot(x, history.history['val_fusion_accuracy'], 'g-.',label='FUSION Val Accuracy')\n",
    "\n",
    "plt.title('Training Accuracy')\n",
    "plt.ylabel('Accuracy')\n",
    "plt.xlabel('epoch')\n",
    "plt.legend(loc='lower right')\n",
    "plt.savefig('graphics/Accuracy.png')\n",
    "plt.show()"
   ]
  },
  {
   "cell_type": "code",
   "execution_count": null,
   "metadata": {},
   "outputs": [],
   "source": [
    "plt.figure(figsize=(15, 8))\n",
    "x = np.arange(len(history.history['loss']))+1\n",
    "plt.plot(x, history.history['combined_f1score'], 'r-',label='Combined F1 Score')\n",
    "plt.plot(x, history.history['opt_f1score'], 'r:',label='OPT F1 Score')\n",
    "plt.plot(x, history.history['sar_f1score'], 'r--',label='SAR F1 Score')\n",
    "plt.plot(x, history.history['fusion_f1score'], 'r-.',label='FUSION F1 Score')\n",
    "\n",
    "plt.plot(x, history.history['val_combined_f1score'], 'g-',label='Combined Val F1 Score')\n",
    "plt.plot(x, history.history['val_opt_f1score'], 'g:',label='OPT Val F1 Score')\n",
    "plt.plot(x, history.history['val_sar_f1score'], 'g--',label='SAR Val F1 Score')\n",
    "plt.plot(x, history.history['val_fusion_f1score'], 'g-.',label='FUSION Val F1 Score')\n",
    "\n",
    "plt.title('Training F1 Score')\n",
    "plt.ylabel('F1 Score')\n",
    "plt.xlabel('epoch')\n",
    "plt.legend(loc='lower right')\n",
    "plt.savefig('graphics/F1score.png')\n",
    "plt.show()"
   ]
  },
  {
   "cell_type": "markdown",
   "metadata": {},
   "source": [
    "## Save weights"
   ]
  },
  {
   "cell_type": "code",
   "execution_count": null,
   "metadata": {},
   "outputs": [],
   "source": [
    "model.save_weights('weights.h5')"
   ]
  },
  {
   "cell_type": "code",
   "execution_count": null,
   "metadata": {},
   "outputs": [],
   "source": []
  }
 ],
 "metadata": {
  "interpreter": {
   "hash": "b08b86eefb6f9027df8c705c57ad3330ee722a1038604439ab9df613faded208"
  },
  "kernelspec": {
   "display_name": "Python 3 (ipykernel)",
   "language": "python",
   "name": "python3"
  },
  "language_info": {
   "codemirror_mode": {
    "name": "ipython",
    "version": 3
   },
   "file_extension": ".py",
   "mimetype": "text/x-python",
   "name": "python",
   "nbconvert_exporter": "python",
   "pygments_lexer": "ipython3",
   "version": "3.8.11"
  }
 },
 "nbformat": 4,
 "nbformat_minor": 2
}
