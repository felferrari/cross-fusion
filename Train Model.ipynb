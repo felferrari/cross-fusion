{
 "cells": [
  {
   "cell_type": "markdown",
   "source": [
    "# Model Training"
   ],
   "metadata": {}
  },
  {
   "cell_type": "markdown",
   "source": [
    "## Importing"
   ],
   "metadata": {}
  },
  {
   "cell_type": "code",
   "execution_count": null,
   "source": [
    "import tensorflow as tf\r\n",
    "from tensorflow.keras.optimizers.schedules import InverseTimeDecay\r\n",
    "from model.models import Model_1\r\n",
    "from testing import test_model, pred_patches\r\n",
    "from dataloader import DataLoader\r\n",
    "from model.losses import FocalLoss\r\n",
    "from model.callbacks import UpdateAccuracy\r\n",
    "import os\r\n",
    "import json\r\n",
    "import shutil\r\n",
    "import matplotlib.pyplot as plt\r\n",
    "import numpy as np"
   ],
   "outputs": [],
   "metadata": {}
  },
  {
   "cell_type": "markdown",
   "source": [
    "## Parameters"
   ],
   "metadata": {}
  },
  {
   "cell_type": "code",
   "execution_count": null,
   "source": [
    "# load the params-patches.json options\r\n",
    "with open(os.path.join('v1', 'params-patches.json')) as param_file:\r\n",
    "    params_patches = json.load(param_file)\r\n",
    "\r\n",
    "# load the params-patches.json options\r\n",
    "with open(os.path.join('v1', 'params-training.json')) as param_file:\r\n",
    "    params_training = json.load(param_file)\r\n",
    "    \r\n",
    "#load the params-model.json options\r\n",
    "with open(os.path.join('v1', 'params-model.json')) as param_file:\r\n",
    "    params_model = json.load(param_file)"
   ],
   "outputs": [],
   "metadata": {}
  },
  {
   "cell_type": "code",
   "execution_count": null,
   "source": [
    "patches_path = params_patches['patches_path']\r\n",
    "\r\n",
    "train_path = os.path.join(patches_path, params_patches['train_sub'])\r\n",
    "val_path = os.path.join(patches_path, params_patches['val_sub'])\r\n",
    "test_path = os.path.join(patches_path, params_patches['test_sub'])"
   ],
   "outputs": [],
   "metadata": {}
  },
  {
   "cell_type": "markdown",
   "source": [
    "## Setting Dataloaders"
   ],
   "metadata": {}
  },
  {
   "cell_type": "code",
   "execution_count": null,
   "source": [
    "dl_train = DataLoader(\r\n",
    "    batch_size = params_training['batch_size'],\r\n",
    "    data_path=os.path.join(train_path, params_patches['data_sub']),\r\n",
    "    label_path=os.path.join(train_path, params_patches['label_sub']),\r\n",
    "    patch_size=128,\r\n",
    "    opt_bands=8,\r\n",
    "    sar_bands=4,\r\n",
    "    num_classes=3,\r\n",
    "    shuffle=True, \r\n",
    "    limit=params_training['patch_limit'])"
   ],
   "outputs": [],
   "metadata": {}
  }
 ],
 "metadata": {
  "orig_nbformat": 4,
  "language_info": {
   "name": "python",
   "version": "3.8.11"
  },
  "kernelspec": {
   "name": "python3",
   "display_name": "Python 3.8.11 64-bit ('proj_2': conda)"
  },
  "interpreter": {
   "hash": "b08b86eefb6f9027df8c705c57ad3330ee722a1038604439ab9df613faded208"
  }
 },
 "nbformat": 4,
 "nbformat_minor": 2
}