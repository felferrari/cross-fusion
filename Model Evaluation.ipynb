{
 "cells": [
  {
   "cell_type": "markdown",
   "metadata": {},
   "source": [
    "# Model evaluation"
   ]
  },
  {
   "cell_type": "markdown",
   "metadata": {},
   "source": [
    "## Importing"
   ]
  },
  {
   "cell_type": "code",
   "execution_count": 1,
   "metadata": {},
   "outputs": [],
   "source": [
    "%load_ext autoreload\n",
    "%autoreload 2"
   ]
  },
  {
   "cell_type": "code",
   "execution_count": 2,
   "metadata": {
    "scrolled": true
   },
   "outputs": [],
   "source": [
    "import json\n",
    "from google_drive_downloader import GoogleDriveDownloader as gdd\n",
    "import shutil, os\n",
    "from ops import load_opt, load_sar, generate_save_patches, min_max_scaler, recall_precision, compute_mAP\n",
    "import numpy as np\n",
    "import logging\n",
    "from PIL import Image\n",
    "import tensorflow as tf\n",
    "from sklearn.preprocessing import OneHotEncoder\n",
    "from tensorflow.keras.utils import to_categorical\n",
    "import matplotlib.pyplot as plt\n",
    "from sklearn.preprocessing import MinMaxScaler\n",
    "import pickle\n",
    "import numpy as np\n",
    "import skimage.morphology\n",
    "from sklearn.metrics import confusion_matrix\n",
    "from model.models import Model_1, Model_2\n",
    "from model.losses import FocalLoss, WBCE\n",
    "from tensorflow.keras.layers import Input\n",
    "from dataloader import DataLoader\n",
    "from tensorflow.keras.optimizers.schedules import InverseTimeDecay\n",
    "\n"
   ]
  },
  {
   "cell_type": "markdown",
   "metadata": {},
   "source": [
    "## Load Model"
   ]
  },
  {
   "cell_type": "code",
   "execution_count": 3,
   "metadata": {},
   "outputs": [],
   "source": [
    "# load the params-patches.json options\n",
    "with open(os.path.join('v1', 'params-patches.json')) as param_file:\n",
    "    params_patches = json.load(param_file)\n",
    "\n",
    "# load the params-patches.json options\n",
    "with open(os.path.join('v1', 'params-training.json')) as param_file:\n",
    "    params_training = json.load(param_file)\n",
    "    \n",
    "#load the params-model.json options\n",
    "with open(os.path.join('v1', 'params-model.json')) as param_file:\n",
    "    params_model = json.load(param_file)\n",
    "\n",
    "#load the shapes.json options\n",
    "with open('shapes.json') as param_file:\n",
    "    shapes_json = json.load(param_file)"
   ]
  },
  {
   "cell_type": "code",
   "execution_count": 4,
   "metadata": {},
   "outputs": [],
   "source": [
    "#patches_path = params_patches['patches_path']\n",
    "\n",
    "#train_path = os.path.join(patches_path, params_patches['train_sub'])\n",
    "#val_path = os.path.join(patches_path, params_patches['val_sub'])\n",
    "#test_path = os.path.join(patches_path, params_patches['test_sub'])\n",
    "#full_path = params_patches['full_path']\n",
    "\n",
    "img_path = params_patches['img_path']\n",
    "data_raw = os.path.join(img_path, params_patches['data_sub']) \n",
    "label_raw = os.path.join(img_path, params_patches['label_sub'])\n",
    "\n",
    "pred_path = params_patches['pred_path']"
   ]
  },
  {
   "cell_type": "code",
   "execution_count": 5,
   "metadata": {},
   "outputs": [],
   "source": [
    "model = Model_2(name='modelo_1')\n",
    "\n",
    "metrics = {\n",
    "}\n",
    "\n",
    "weights = [0.2, 0.8, 0.0]\n",
    "\n",
    "\n",
    "optimizers = {\n",
    "    'opt': tf.keras.optimizers.Adam(learning_rate = 1e-4),\n",
    "    'sar': tf.keras.optimizers.Adam(learning_rate = 1e-4),\n",
    "    'fusion': tf.keras.optimizers.Adam(learning_rate = 1e-4),\n",
    "}\n",
    "\n",
    "class_indexes = [0, 1]\n",
    "\n",
    "model.compile(\n",
    "    optimizers = optimizers,\n",
    "    loss_fn = WBCE,\n",
    "    metrics_dict = metrics,\n",
    "    class_weights = weights,\n",
    "    class_indexes = class_indexes,\n",
    "    run_eagerly=params_training['run_eagerly']\n",
    ")\n",
    "\n",
    "model.build(\n",
    "    input_shape = [\n",
    "        (None, params_patches['patch_size'], params_patches['patch_size'], params_model['opt_channels']),\n",
    "        (None, params_patches['patch_size'], params_patches['patch_size'], params_model['sar_channels'])\n",
    "    ]\n",
    "    )\n",
    "model.load_weights('weights.h5')"
   ]
  },
  {
   "cell_type": "markdown",
   "metadata": {},
   "source": [
    "## Eval Model"
   ]
  },
  {
   "cell_type": "markdown",
   "metadata": {},
   "source": [
    "### Load images"
   ]
  },
  {
   "cell_type": "code",
   "execution_count": 6,
   "metadata": {
    "scrolled": true
   },
   "outputs": [],
   "source": [
    "opt = np.load(os.path.join(data_raw, 'opt.npy'))\n",
    "sar = np.load(os.path.join(data_raw, 'sar.npy'))"
   ]
  },
  {
   "cell_type": "markdown",
   "metadata": {},
   "source": [
    "### Make Predictions"
   ]
  },
  {
   "cell_type": "code",
   "execution_count": null,
   "metadata": {},
   "outputs": [
    {
     "name": "stderr",
     "output_type": "stream",
     "text": [
      "\r",
      "  0%|          | 0/9990 [00:00<?, ?it/s]"
     ]
    }
   ],
   "source": [
    "pred = model.predict_from_patches(\n",
    "    (opt, sar), \n",
    "    params_patches['patch_size'], \n",
    "    params_patches['patch_stride'], \n",
    "    16)"
   ]
  },
  {
   "cell_type": "code",
   "execution_count": null,
   "metadata": {},
   "outputs": [],
   "source": [
    "labels = np.load(os.path.join(label_raw, 'labels.npy'))"
   ]
  },
  {
   "cell_type": "code",
   "execution_count": null,
   "metadata": {
    "scrolled": true
   },
   "outputs": [],
   "source": [
    "fig, ax = plt.subplots(nrows=1, ncols=5, figsize = (25,8))\n",
    "\n",
    "\n",
    "img = Image.fromarray(np.uint8(to_categorical(labels, 3)[:,:,1]*255))\n",
    "ax[0].axis('off')\n",
    "ax[0].set_title(f'Label')\n",
    "ax[0].imshow(img, cmap = 'gray')\n",
    "\n",
    "img = Image.fromarray(np.squeeze(np.uint8(pred[0]*255)))\n",
    "ax[1].axis('off')\n",
    "ax[1].set_title(f'OPT')\n",
    "ax[1].imshow(img, cmap = 'gray')\n",
    "\n",
    "img = Image.fromarray(np.squeeze(np.uint8(pred[1]*255)))\n",
    "ax[2].axis('off')\n",
    "ax[2].set_title(f'SAR')\n",
    "ax[2].imshow(img, cmap = 'gray')\n",
    "\n",
    "img = Image.fromarray(np.squeeze(np.uint8(pred[2]*255)))\n",
    "ax[3].axis('off')\n",
    "ax[3].set_title(f'FUSION')\n",
    "ax[3].imshow(img, cmap = 'gray')\n",
    "\n",
    "img = Image.fromarray(np.squeeze(np.uint8(pred[3]*255)))\n",
    "ax[4].axis('off')\n",
    "ax[4].set_title(f'COMBINED')\n",
    "ax[4].imshow(img, cmap = 'gray')\n",
    "\n",
    "fig.show()"
   ]
  },
  {
   "cell_type": "code",
   "execution_count": null,
   "metadata": {},
   "outputs": [],
   "source": [
    "shutil.rmtree(pred_path, ignore_errors=True)\n",
    "os.makedirs(pred_path)"
   ]
  },
  {
   "cell_type": "code",
   "execution_count": null,
   "metadata": {},
   "outputs": [],
   "source": [
    "np.save(os.path.join(pred_path, 'opt.npy'), np.squeeze(pred[0]))\n",
    "np.save(os.path.join(pred_path, 'sar.npy'), np.squeeze(pred[1]))\n",
    "np.save(os.path.join(pred_path, 'fusion.npy'), np.squeeze(pred[2]))\n",
    "np.save(os.path.join(pred_path, 'combination.npy'), np.squeeze(pred[3]))"
   ]
  },
  {
   "cell_type": "code",
   "execution_count": null,
   "metadata": {},
   "outputs": [],
   "source": [
    "test_mask = np.squeeze(np.zeros_like(pred[0]))\n",
    "test_tiles = params_patches['test_tiles']\n",
    "split_v = params_patches['tiles_v']\n",
    "split_h = params_patches['tiles_h']\n",
    "lines = np.array_split(range(pred[0].shape[0]), split_v)\n",
    "cols = np.array_split(range(pred[0].shape[1]), split_h)\n",
    "i = 0\n",
    "dic = {}\n",
    "for line in lines:\n",
    "    for col in cols:\n",
    "        i+=1\n",
    "        if i not in test_tiles:\n",
    "            continue\n",
    "        test_mask[line[0]:line[-1]+1, col[0]:col[-1]+1] = 1\n",
    "img = Image.fromarray(np.uint8(test_mask*255))\n",
    "resize = 0.02\n",
    "shape = (int(resize*test_mask.shape[1]), int(resize*test_mask.shape[0]))\n",
    "img = img.resize(shape)\n",
    "img"
   ]
  },
  {
   "cell_type": "code",
   "execution_count": null,
   "metadata": {},
   "outputs": [],
   "source": [
    "rec_prec_l = []\n",
    "map_l = []\n",
    "for i in range(1):\n",
    "    ref1 = np.ones_like(labels).astype(np.float32)\n",
    "\n",
    "    ref1 [labels == 2] = 0\n",
    "    TileMask = test_mask * ref1\n",
    "    GTTruePositives = labels==1\n",
    "\n",
    "    Npoints = 10\n",
    "    Pmax = np.max(pred[i][GTTruePositives * TileMask ==1])\n",
    "    ProbList = np.linspace(Pmax,0,Npoints) \n",
    "    \n",
    "    rec_pre_metrics = recall_precision(ProbList, labels, np.squeeze(pred[i]), 625, test_mask)\n",
    "    rec_prec_l.append(rec_pre_metrics)\n",
    "    \n",
    "    Recall = rec_pre_metrics[:,0]\n",
    "    Precision = rec_pre_metrics[:,1]\n",
    "\n",
    "    mAP = compute_mAP(Recall, Precision)\n",
    "    map_l.append(mAP)\n",
    "    print(f'mAP({i}): ', mAP)\n",
    "    \n",
    "    "
   ]
  },
  {
   "cell_type": "code",
   "execution_count": null,
   "metadata": {},
   "outputs": [],
   "source": [
    "gragh_labels = {\n",
    "    0: \"Optical\",\n",
    "    1: \"SAR\",\n",
    "    2: \"Fusion\",\n",
    "    3: \"Combined\"\n",
    "}\n",
    "gragh_style = {\n",
    "    0: \"r-\",\n",
    "    1: \"g-\",\n",
    "    2: \"b-\",\n",
    "    3: \"k-\"\n",
    "}\n",
    "\n",
    "plt.figure(figsize = (10,10))\n",
    "for i in range(1):\n",
    "    plt.plot(rec_prec_l[i][:,0], rec_prec_l[i][:,1], gragh_style[i], label=gragh_labels[i])\n",
    "\n",
    "\n",
    "plt.legend(loc='upper right')\n",
    "plt.grid()\n",
    "plt.show()"
   ]
  },
  {
   "cell_type": "code",
   "execution_count": null,
   "metadata": {},
   "outputs": [],
   "source": []
  }
 ],
 "metadata": {
  "interpreter": {
   "hash": "b08b86eefb6f9027df8c705c57ad3330ee722a1038604439ab9df613faded208"
  },
  "kernelspec": {
   "display_name": "Python 3 (ipykernel)",
   "language": "python",
   "name": "python3"
  },
  "language_info": {
   "codemirror_mode": {
    "name": "ipython",
    "version": 3
   },
   "file_extension": ".py",
   "mimetype": "text/x-python",
   "name": "python",
   "nbconvert_exporter": "python",
   "pygments_lexer": "ipython3",
   "version": "3.8.11"
  }
 },
 "nbformat": 4,
 "nbformat_minor": 2
}
